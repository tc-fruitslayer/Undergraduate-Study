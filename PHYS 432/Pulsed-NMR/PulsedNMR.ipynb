{
 "cells": [
  {
   "cell_type": "code",
   "execution_count": 4,
   "id": "a8f51c25-38ee-457f-9395-ca99f5b6e2ee",
   "metadata": {},
   "outputs": [],
   "source": [
    "import numpy as np\n",
    "\n",
    "import uncertainties as unc\n",
    "import matplotlib.pyplot as plt\n",
    "import pandas as pd\n",
    "from uncertainties import ufloat,unumpy  #for uncertainty object creation/manipulation\n",
    "from uncertainties.umath import *  #for math on uncertainty objects\n",
    "\n",
    "from scipy.stats import norm \n",
    "%matplotlib inline"
   ]
  },
  {
   "cell_type": "code",
   "execution_count": 6,
   "id": "d98a5919-7145-4187-a074-250d8e5ef3d4",
   "metadata": {},
   "outputs": [
    {
     "data": {
      "text/plain": [
       "array([28.0592448])"
      ]
     },
     "execution_count": 6,
     "metadata": {},
     "output_type": "execute_result"
    }
   ],
   "source": [
    "#equation 13\n",
    "norm(27.765,2).rvs(1)"
   ]
  },
  {
   "cell_type": "markdown",
   "id": "9d082f05-f918-4b39-85dc-279ebcc99854",
   "metadata": {},
   "source": [
    "# Exercises"
   ]
  },
  {
   "cell_type": "markdown",
   "id": "41cc64bd-1f37-4ca9-a168-be19bf4fe924",
   "metadata": {},
   "source": [
    "## Exercise 1"
   ]
  },
  {
   "cell_type": "code",
   "execution_count": null,
   "id": "31b12977-9611-48a9-a40a-1ce5496ef12d",
   "metadata": {},
   "outputs": [],
   "source": [
    "#exercise 1:\n",
    "find_t(2.765e4,12) * 1000000 # in μs"
   ]
  },
  {
   "cell_type": "code",
   "execution_count": null,
   "id": "532171aa-ef81-4b3d-99c4-ae8c1bb15525",
   "metadata": {},
   "outputs": [],
   "source": [
    "#exercise 2:\n",
    "#we measure 6.00 μs\n",
    "B1 = np.pi/(2*2.765e4*(6e-6)) # Gauss\n",
    "\n",
    "#minimum width 11.8 μs\n"
   ]
  },
  {
   "cell_type": "code",
   "execution_count": null,
   "id": "878ee28d-19ef-45f0-ace1-07418e93abd9",
   "metadata": {},
   "outputs": [],
   "source": [
    "Experiment 1:\n"
   ]
  },
  {
   "cell_type": "code",
   "execution_count": null,
   "id": "80b6e87a-fa2e-4834-9564-1043ce4e1757",
   "metadata": {},
   "outputs": [],
   "source": [
    "Experiment 1:\n",
    "#water:\n",
    "T1 = 2.00 s\n",
    "#ethanol:\n",
    "T1 = [1.10, 1.15, 1.20] s\n",
    "#mineral oil:\n",
    "T1 = [24.0 to 28] ms\n",
    "#vaseline petroleum jelly:\n",
    "T1 = [28.1 to 29.8] ms\n",
    "#Glycerin:\n",
    "T1 = [3.21 to 3.41] msi"
   ]
  }
 ],
 "metadata": {
  "kernelspec": {
   "display_name": "Python 3 (ipykernel)",
   "language": "python",
   "name": "python3"
  },
  "language_info": {
   "codemirror_mode": {
    "name": "ipython",
    "version": 3
   },
   "file_extension": ".py",
   "mimetype": "text/x-python",
   "name": "python",
   "nbconvert_exporter": "python",
   "pygments_lexer": "ipython3",
   "version": "3.9.7"
  }
 },
 "nbformat": 4,
 "nbformat_minor": 5
}
