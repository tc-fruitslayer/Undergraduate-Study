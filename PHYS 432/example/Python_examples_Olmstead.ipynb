{
 "cells": [
  {
   "cell_type": "markdown",
   "metadata": {},
   "source": [
    "# Python use examples for the Phys 43x labs\n",
    "\n",
    "***By Prof. Marjorie Olmstead, Summer 2021***\n",
    "\n",
    "These are sorted by topic, roughly in the order you need to use them when looking at and analyzing a set of data.  Print formatting is near the end, and the last section is going through an example from start to finish.\n",
    "\n",
    "## Logistics\n",
    "\n",
    "The cells (boxes) in your notebook are primarily either text (Markdown; blue in the sidebar) or code (green in the sidebar).  \n",
    "\n",
    "To **run the command box** or **process your Markdown language**:\n",
    "\n",
    "- `ctrl-enter` (JupyterHub) or `command-enter`(Mac): run and stay on that cell\n",
    "- `shift-enter`: run and go to the next cell (Same as hitting the `>Run` key at the top)\n",
    "- `alt-enter` (PC) or `option-enter`(Mac): run cell and create a new cell beneath it\n",
    "\n",
    "The hashtag character # in a code cell denotes that everything to the right of it is a comment.  Commented code is essential.  It needs to be clear either from the code box itself or the Markdown box above/below it what your code it doing.\n",
    "\n",
    "The number in brackets before a code cell tells you the order in which the code has been run.  `[*]` means that box is in progress.\n",
    "\n",
    "To clear everything and run again from the top as command `[1]`, click on the `>>` box at the top, or use the commands under the \"Kernel\" menu. \n",
    "\n",
    "The `Run All (above or below)` options in the \"Cell\" menu run the commands without resetting any variables - the next line will get a command number one higher than the last one.  If you want to clear your variables first, type `esc-0 0` before running.\n",
    "\n",
    "Note that when you close and reopen a notebook, the various objects (variables and arrays) become undefined.  You need to re-run the notebook - you can't just pick up again where you left off.  \n",
    "\n",
    "You can run your code from the various menus and buttons at the top of your notebook page.  There are a number of keyboard shortcuts (see list under the Help menu) - hold down the `escape key` as you type them to be in command mode.  Some commonly used commands using the escape key\n",
    "\n",
    "- `esc-M` switches a cell to Markdown (text)\n",
    "- `esc-Y` switches a cell to Code\n",
    "- `esc-0 0` clears the system, but doesn't run anything.\n",
    "- `esc-I I` aborts running code (same as the button with the square)\n",
    "- `esc-A` insert cell above\n",
    "- `esc-B` insert cell below (same as the button with the `+`)\n",
    "\n",
    "A few useful Markdown commands (for more, follow the link under Help menu):\n",
    "\n",
    "- to add a heading, start the line with hashtags.  `# level 1`; `## level 2`; `### level 3`; etc.\n",
    "- to get a bulleted paragraph, type hyphen and then space, `- indented with bullet`.  If you put spaces before the hyphen, it then goes to the next level of indent.  As you put it in, it will be color coded by indent level.\n",
    "- to put something in **bold** type, surround it with double asterisks `**bold**`\n",
    "- to put something in *italics*, surround it with single asterisks `*italic*`\n",
    "- to have something in a gray box to denote code, surround it with the backtick (upper left of most keyboards)\n",
    "- to type an inline latex equation, put it in dollar signs `$inline equation$`\n",
    "- to have a centered equation on its own line, put it in double dollar signs, `$$centered equation$$`\n",
    "- to force a line break, leave an empty line (hit return twice)\n",
    "- to have indented courier font for a few lines of code, start and end with a line containing three backticks.\n",
    "\n",
    "\n"
   ]
  },
  {
   "cell_type": "markdown",
   "metadata": {},
   "source": [
    "## Initiate the environment\n",
    "\n",
    "When you have just cleared with `esc-0 0` (or opened your file for a new time if running on your home computer), you need to run the commands in the next cell to call in assorted packages and assign their aliases. "
   ]
  },
  {
   "cell_type": "code",
   "execution_count": 1,
   "metadata": {},
   "outputs": [],
   "source": [
    "import numpy as np                 #for conducting numerical operations on arrays, etc.\n",
    "import scipy.constants as const    #stores various physical constants\n",
    "import uncertainties as unc        #to treat values with their uncertainties as a single object\n",
    "import matplotlib.pyplot as plt    #for plotting graphs\n",
    "import pandas as pd                #for data input/output, among other things\n",
    "%matplotlib inline\n",
    "from uncertainties import ufloat,unumpy  #for uncertainty object creation/manipulation\n",
    "from uncertainties.umath import *  #for math on uncertainty objects"
   ]
  },
  {
   "cell_type": "markdown",
   "metadata": {},
   "source": [
    "# Loading in Data\n",
    "\n",
    "## Directory info\n",
    "\n",
    "If you are working in JupyterHub, your files are obvious in the window to the left of your notebook, and you can find them by clicking on the various folders.  If you are working on your own computer instead of the JupyterHub (after installing Anaconda on your machine), it useful to check what directory you are in, change it if necessary, and then list the files in that directory so you can check to see if the one you want is there (or what it's actual name is).\n",
    "Since these are line commands in the unix shell, rather than Python, you need to put each in their own command line to run (there are likely other ways, but this works).  If you include a comment in the cell, start your command with %\n",
    "\n",
    "- `pwd` = print working directory\n",
    "- `cd` = change directory\n",
    "- `cd ..` = change to the directory that contains the current working directory\n",
    "- `cd dir` = change to the directory dir\n",
    "- `ls` = list files\n",
    "- `ls -l` = list files with their attributes"
   ]
  },
  {
   "cell_type": "code",
   "execution_count": 2,
   "metadata": {},
   "outputs": [
    {
     "data": {
      "text/plain": [
       "'/home/jovyan/Resource Files'"
      ]
     },
     "execution_count": 2,
     "metadata": {},
     "output_type": "execute_result"
    }
   ],
   "source": [
    "pwd"
   ]
  },
  {
   "cell_type": "code",
   "execution_count": 3,
   "metadata": {},
   "outputs": [
    {
     "name": "stdout",
     "output_type": "stream",
     "text": [
      "'Lab Commands.ipynb'   minute2.csv   testdata.csv   threetrial.csv\n"
     ]
    }
   ],
   "source": [
    "# list the files\n",
    "%ls"
   ]
  },
  {
   "cell_type": "code",
   "execution_count": 4,
   "metadata": {},
   "outputs": [
    {
     "name": "stdout",
     "output_type": "stream",
     "text": [
      "total 384\n",
      "-rw-r--r-- 1 jovyan users 380084 Jun 17 19:50 'Lab Commands.ipynb'\n",
      "-rw-r--r-- 1 jovyan users    112 Jun 17 19:29  minute2.csv\n",
      "-rw-r--r-- 1 jovyan users    238 Jun 17 17:03  testdata.csv\n",
      "-rw-r--r-- 1 jovyan users    387 Jun 17 19:26  threetrial.csv\n"
     ]
    }
   ],
   "source": [
    "# list the files with their size, permissions, and date information\n",
    "%ls -l"
   ]
  },
  {
   "cell_type": "markdown",
   "metadata": {},
   "source": [
    "## Extracting data from csv file\n",
    "\n",
    "### Read in the file\n",
    "\n",
    "The command to **read in data from a csv file** is in the Pandas library.  Look at Pandas documentation (linked from the Help menu) to read in other types of files.\n",
    "\n",
    "- `mydata = pd.read_csv('myfile.csv')`  Note this is case sensitive in finding your file.\n",
    "\n",
    "The equals sign has assigned the text information in your file to the object `mydata`.\n",
    "\n",
    "A general rule for code is that text is in single quotes, as `'text'`.  If there are no quotes, Python looks for a variable or other object with that name.  Thus an alternate way of reading in your file is to assign the filename to an object as text, and then use the object in the open command:\n",
    "\n",
    "- `myfile = 'myfile.csv'`\n",
    "- `mydata = pd.read_csv(myfile)`\n",
    "\n",
    "For now, `mydata` is a text object similar to your original file.  To view the whole file as a formatted table, end your box with the line `mydata`"
   ]
  },
  {
   "cell_type": "code",
   "execution_count": 5,
   "metadata": {},
   "outputs": [
    {
     "data": {
      "text/html": [
       "<div>\n",
       "<style scoped>\n",
       "    .dataframe tbody tr th:only-of-type {\n",
       "        vertical-align: middle;\n",
       "    }\n",
       "\n",
       "    .dataframe tbody tr th {\n",
       "        vertical-align: top;\n",
       "    }\n",
       "\n",
       "    .dataframe thead th {\n",
       "        text-align: right;\n",
       "    }\n",
       "</style>\n",
       "<table border=\"1\" class=\"dataframe\">\n",
       "  <thead>\n",
       "    <tr style=\"text-align: right;\">\n",
       "      <th></th>\n",
       "      <th>Time (min:sec)</th>\n",
       "      <th>Voltage (V)</th>\n",
       "    </tr>\n",
       "  </thead>\n",
       "  <tbody>\n",
       "    <tr>\n",
       "      <th>0</th>\n",
       "      <td>0:00</td>\n",
       "      <td>0.00</td>\n",
       "    </tr>\n",
       "    <tr>\n",
       "      <th>1</th>\n",
       "      <td>0:10</td>\n",
       "      <td>1.76</td>\n",
       "    </tr>\n",
       "    <tr>\n",
       "      <th>2</th>\n",
       "      <td>0:20</td>\n",
       "      <td>3.21</td>\n",
       "    </tr>\n",
       "    <tr>\n",
       "      <th>3</th>\n",
       "      <td>0:30</td>\n",
       "      <td>4.39</td>\n",
       "    </tr>\n",
       "    <tr>\n",
       "      <th>4</th>\n",
       "      <td>0:40</td>\n",
       "      <td>5.35</td>\n",
       "    </tr>\n",
       "    <tr>\n",
       "      <th>5</th>\n",
       "      <td>0:50</td>\n",
       "      <td>6.16</td>\n",
       "    </tr>\n",
       "    <tr>\n",
       "      <th>6</th>\n",
       "      <td>1:00</td>\n",
       "      <td>6.80</td>\n",
       "    </tr>\n",
       "    <tr>\n",
       "      <th>7</th>\n",
       "      <td>1:10</td>\n",
       "      <td>7.35</td>\n",
       "    </tr>\n",
       "    <tr>\n",
       "      <th>8</th>\n",
       "      <td>1:20</td>\n",
       "      <td>7.77</td>\n",
       "    </tr>\n",
       "    <tr>\n",
       "      <th>9</th>\n",
       "      <td>1:30</td>\n",
       "      <td>8.12</td>\n",
       "    </tr>\n",
       "    <tr>\n",
       "      <th>10</th>\n",
       "      <td>1:40</td>\n",
       "      <td>8.39</td>\n",
       "    </tr>\n",
       "    <tr>\n",
       "      <th>11</th>\n",
       "      <td>1:50</td>\n",
       "      <td>8.67</td>\n",
       "    </tr>\n",
       "    <tr>\n",
       "      <th>12</th>\n",
       "      <td>2:00</td>\n",
       "      <td>8.82</td>\n",
       "    </tr>\n",
       "    <tr>\n",
       "      <th>13</th>\n",
       "      <td>2:10</td>\n",
       "      <td>9.02</td>\n",
       "    </tr>\n",
       "    <tr>\n",
       "      <th>14</th>\n",
       "      <td>2:20</td>\n",
       "      <td>9.12</td>\n",
       "    </tr>\n",
       "    <tr>\n",
       "      <th>15</th>\n",
       "      <td>2:30</td>\n",
       "      <td>9.26</td>\n",
       "    </tr>\n",
       "    <tr>\n",
       "      <th>16</th>\n",
       "      <td>2:40</td>\n",
       "      <td>9.31</td>\n",
       "    </tr>\n",
       "    <tr>\n",
       "      <th>17</th>\n",
       "      <td>2:50</td>\n",
       "      <td>9.41</td>\n",
       "    </tr>\n",
       "    <tr>\n",
       "      <th>18</th>\n",
       "      <td>3:00</td>\n",
       "      <td>9.46</td>\n",
       "    </tr>\n",
       "  </tbody>\n",
       "</table>\n",
       "</div>"
      ],
      "text/plain": [
       "   Time (min:sec)  Voltage (V)\n",
       "0            0:00         0.00\n",
       "1            0:10         1.76\n",
       "2            0:20         3.21\n",
       "3            0:30         4.39\n",
       "4            0:40         5.35\n",
       "5            0:50         6.16\n",
       "6            1:00         6.80\n",
       "7            1:10         7.35\n",
       "8            1:20         7.77\n",
       "9            1:30         8.12\n",
       "10           1:40         8.39\n",
       "11           1:50         8.67\n",
       "12           2:00         8.82\n",
       "13           2:10         9.02\n",
       "14           2:20         9.12\n",
       "15           2:30         9.26\n",
       "16           2:40         9.31\n",
       "17           2:50         9.41\n",
       "18           3:00         9.46"
      ]
     },
     "execution_count": 5,
     "metadata": {},
     "output_type": "execute_result"
    }
   ],
   "source": [
    "#Read in a csv file of data, and then print the first 5 lines of the file on the screen\n",
    "mydata=pd.read_csv('testdata.csv')\n",
    "mydata"
   ]
  },
  {
   "cell_type": "markdown",
   "metadata": {},
   "source": [
    "For long data files, this can be cumbersome.  It is useful, however, to check you have what you want by printing the first few or last few lines.\n",
    "\n",
    "To limit to just the first *N* lines, use `.head(N)`\n",
    "\n",
    "- `mydata.head(N)`\n",
    "\n",
    "or the last *N* lines with `.tail(N)`\n",
    "\n",
    "- `mydata.tail(N)`\n",
    "\n",
    "Note that in all cases printing elements of `mydata` also prints the titles (extracted from your first row, if the titles exist) and the row numbers (starting with 0, so that the first row is labelled 0 and the Nth row is labelled N-1).\n",
    "\n",
    "This is a general structure in Python - to do some action on an object by appending `.action`"
   ]
  },
  {
   "cell_type": "code",
   "execution_count": 6,
   "metadata": {},
   "outputs": [
    {
     "data": {
      "text/html": [
       "<div>\n",
       "<style scoped>\n",
       "    .dataframe tbody tr th:only-of-type {\n",
       "        vertical-align: middle;\n",
       "    }\n",
       "\n",
       "    .dataframe tbody tr th {\n",
       "        vertical-align: top;\n",
       "    }\n",
       "\n",
       "    .dataframe thead th {\n",
       "        text-align: right;\n",
       "    }\n",
       "</style>\n",
       "<table border=\"1\" class=\"dataframe\">\n",
       "  <thead>\n",
       "    <tr style=\"text-align: right;\">\n",
       "      <th></th>\n",
       "      <th>Time (min:sec)</th>\n",
       "      <th>Voltage (V)</th>\n",
       "    </tr>\n",
       "  </thead>\n",
       "  <tbody>\n",
       "    <tr>\n",
       "      <th>0</th>\n",
       "      <td>0:00</td>\n",
       "      <td>0.00</td>\n",
       "    </tr>\n",
       "    <tr>\n",
       "      <th>1</th>\n",
       "      <td>0:10</td>\n",
       "      <td>1.76</td>\n",
       "    </tr>\n",
       "    <tr>\n",
       "      <th>2</th>\n",
       "      <td>0:20</td>\n",
       "      <td>3.21</td>\n",
       "    </tr>\n",
       "    <tr>\n",
       "      <th>3</th>\n",
       "      <td>0:30</td>\n",
       "      <td>4.39</td>\n",
       "    </tr>\n",
       "    <tr>\n",
       "      <th>4</th>\n",
       "      <td>0:40</td>\n",
       "      <td>5.35</td>\n",
       "    </tr>\n",
       "  </tbody>\n",
       "</table>\n",
       "</div>"
      ],
      "text/plain": [
       "  Time (min:sec)  Voltage (V)\n",
       "0           0:00         0.00\n",
       "1           0:10         1.76\n",
       "2           0:20         3.21\n",
       "3           0:30         4.39\n",
       "4           0:40         5.35"
      ]
     },
     "execution_count": 6,
     "metadata": {},
     "output_type": "execute_result"
    }
   ],
   "source": [
    "#print just the first 5 lines of the file on the screen \n",
    "mydata.head(5)"
   ]
  },
  {
   "cell_type": "code",
   "execution_count": 7,
   "metadata": {},
   "outputs": [
    {
     "data": {
      "text/html": [
       "<div>\n",
       "<style scoped>\n",
       "    .dataframe tbody tr th:only-of-type {\n",
       "        vertical-align: middle;\n",
       "    }\n",
       "\n",
       "    .dataframe tbody tr th {\n",
       "        vertical-align: top;\n",
       "    }\n",
       "\n",
       "    .dataframe thead th {\n",
       "        text-align: right;\n",
       "    }\n",
       "</style>\n",
       "<table border=\"1\" class=\"dataframe\">\n",
       "  <thead>\n",
       "    <tr style=\"text-align: right;\">\n",
       "      <th></th>\n",
       "      <th>Time (min:sec)</th>\n",
       "      <th>Voltage (V)</th>\n",
       "    </tr>\n",
       "  </thead>\n",
       "  <tbody>\n",
       "    <tr>\n",
       "      <th>14</th>\n",
       "      <td>2:20</td>\n",
       "      <td>9.12</td>\n",
       "    </tr>\n",
       "    <tr>\n",
       "      <th>15</th>\n",
       "      <td>2:30</td>\n",
       "      <td>9.26</td>\n",
       "    </tr>\n",
       "    <tr>\n",
       "      <th>16</th>\n",
       "      <td>2:40</td>\n",
       "      <td>9.31</td>\n",
       "    </tr>\n",
       "    <tr>\n",
       "      <th>17</th>\n",
       "      <td>2:50</td>\n",
       "      <td>9.41</td>\n",
       "    </tr>\n",
       "    <tr>\n",
       "      <th>18</th>\n",
       "      <td>3:00</td>\n",
       "      <td>9.46</td>\n",
       "    </tr>\n",
       "  </tbody>\n",
       "</table>\n",
       "</div>"
      ],
      "text/plain": [
       "   Time (min:sec)  Voltage (V)\n",
       "14           2:20         9.12\n",
       "15           2:30         9.26\n",
       "16           2:40         9.31\n",
       "17           2:50         9.41\n",
       "18           3:00         9.46"
      ]
     },
     "execution_count": 7,
     "metadata": {},
     "output_type": "execute_result"
    }
   ],
   "source": [
    "# print the last 5 lines - useful for figuring out the size of your dataset\n",
    "mydata.tail(5)"
   ]
  },
  {
   "cell_type": "markdown",
   "metadata": {},
   "source": [
    "The next cell in an example of the alternate approach of using an object to store your file name (useful if you will be reading in multiple files)."
   ]
  },
  {
   "cell_type": "code",
   "execution_count": 8,
   "metadata": {},
   "outputs": [
    {
     "data": {
      "text/html": [
       "<div>\n",
       "<style scoped>\n",
       "    .dataframe tbody tr th:only-of-type {\n",
       "        vertical-align: middle;\n",
       "    }\n",
       "\n",
       "    .dataframe tbody tr th {\n",
       "        vertical-align: top;\n",
       "    }\n",
       "\n",
       "    .dataframe thead th {\n",
       "        text-align: right;\n",
       "    }\n",
       "</style>\n",
       "<table border=\"1\" class=\"dataframe\">\n",
       "  <thead>\n",
       "    <tr style=\"text-align: right;\">\n",
       "      <th></th>\n",
       "      <th>Time (min:sec)</th>\n",
       "      <th>Voltage (V)</th>\n",
       "    </tr>\n",
       "  </thead>\n",
       "  <tbody>\n",
       "    <tr>\n",
       "      <th>0</th>\n",
       "      <td>0:00</td>\n",
       "      <td>0.00</td>\n",
       "    </tr>\n",
       "    <tr>\n",
       "      <th>1</th>\n",
       "      <td>0:10</td>\n",
       "      <td>1.76</td>\n",
       "    </tr>\n",
       "    <tr>\n",
       "      <th>2</th>\n",
       "      <td>0:20</td>\n",
       "      <td>3.21</td>\n",
       "    </tr>\n",
       "    <tr>\n",
       "      <th>3</th>\n",
       "      <td>0:30</td>\n",
       "      <td>4.39</td>\n",
       "    </tr>\n",
       "    <tr>\n",
       "      <th>4</th>\n",
       "      <td>0:40</td>\n",
       "      <td>5.35</td>\n",
       "    </tr>\n",
       "  </tbody>\n",
       "</table>\n",
       "</div>"
      ],
      "text/plain": [
       "  Time (min:sec)  Voltage (V)\n",
       "0           0:00         0.00\n",
       "1           0:10         1.76\n",
       "2           0:20         3.21\n",
       "3           0:30         4.39\n",
       "4           0:40         5.35"
      ]
     },
     "execution_count": 8,
     "metadata": {},
     "output_type": "execute_result"
    }
   ],
   "source": [
    "myfile = 'testdata.csv'\n",
    "mydata2 = pd.read_csv(myfile)\n",
    "mydata2.head(5)"
   ]
  },
  {
   "cell_type": "markdown",
   "metadata": {},
   "source": [
    "### Extract information from the data you read in\n",
    "\n",
    "\n",
    "The object `mydata` now contains the text that was in the file testdata.csv, extracted by parsing at commas.  \n",
    "\n",
    "\n",
    "If the top line looks different, read_csv stores the top line as titles.  You can pull out a column of data if you know its title.  \n",
    "\n",
    "To **extract the titles** into a file of their own:\n",
    "\n",
    "- `titlelist = mydata.columns`"
   ]
  },
  {
   "cell_type": "code",
   "execution_count": 9,
   "metadata": {},
   "outputs": [
    {
     "data": {
      "text/plain": [
       "Index(['Time (min:sec)', 'Voltage (V)'], dtype='object')"
      ]
     },
     "execution_count": 9,
     "metadata": {},
     "output_type": "execute_result"
    }
   ],
   "source": [
    "titlelist = mydata.columns\n",
    "titlelist"
   ]
  },
  {
   "cell_type": "markdown",
   "metadata": {},
   "source": [
    "It calls this an Index (the contents are used to index the columns in the table) and the datatype is object (text rather than a number).\n",
    "\n",
    "To figure out the **number of rows and columns** in your array, use `shape`.  This creates an array that is as long as the number of dimensions.\n",
    "\n",
    "To select the size of the dimension you care about: `[]` or `[0]` is the number of rows (length of each column) and `[1]` is the number of columns (length of each row).  More dimensions won't be needed in PHYS 431:\n",
    "\n",
    "- `rows = mydata.shape[0]`\n",
    "- `columns = mydata.shape[1]`"
   ]
  },
  {
   "cell_type": "code",
   "execution_count": 10,
   "metadata": {},
   "outputs": [
    {
     "name": "stdout",
     "output_type": "stream",
     "text": [
      "data pts = 19 ; data per pt = 2\n"
     ]
    },
    {
     "data": {
      "text/plain": [
       "(19, 2)"
      ]
     },
     "execution_count": 10,
     "metadata": {},
     "output_type": "execute_result"
    }
   ],
   "source": [
    "# extract size of array\n",
    "rows = mydata.shape[0]\n",
    "cols = mydata.shape[1]\n",
    "print('data pts =',rows,'; data per pt =',cols)\n",
    "mydata.shape"
   ]
  },
  {
   "cell_type": "markdown",
   "metadata": {},
   "source": [
    "Note that I just used the `print()` command to see the results of my calculation with some information I supplied.  The method of printing by just including the name of the object only works if the line is the last one in the cell, and doesn't allow you to format things.  See below for the section Formatted Printing.  For now, you just need to know that `print()` prints to the terminal what is in parentheses.  Text in 'single quotes' gets passed through, and objects (variables) have their current value printed."
   ]
  },
  {
   "cell_type": "markdown",
   "metadata": {},
   "source": [
    "To **extract a particular column** from your table, you use the title of the column. \n",
    "\n",
    "- `mydata['title']`\n",
    "\n",
    "To **extract the Nth data point** or the **range from N to M** in column 'title':\n",
    "\n",
    "- `mydata['title'][N-1]`\n",
    "- `mydata['title'][N-1:M]`\n",
    "\n",
    "Note again that all references start with 0 as the first value, so the Nth datapoint is labelled N-1.  In general for a 2D table or array, the first set of `[brackets]` is the column info, and the second is the rows.\n",
    "\n",
    "Within the brackets, `[N:M]` refers to the data points N+1 through M.  If the first number is missing, it is assumed to be N=0; if the second is missing it is assumed to be M = last row.  All the data would then be `[:]`."
   ]
  },
  {
   "cell_type": "code",
   "execution_count": 11,
   "metadata": {},
   "outputs": [
    {
     "name": "stdout",
     "output_type": "stream",
     "text": [
      "time = 0:40 ;  voltage= 5.35  Volts\n"
     ]
    }
   ],
   "source": [
    "# print the time and voltage for the 5th data point\n",
    "print('time =',mydata['Time (min:sec)'][4],';  voltage=',mydata['Voltage (V)'][4],\" Volts\")"
   ]
  },
  {
   "cell_type": "markdown",
   "metadata": {},
   "source": [
    "That last line got a bit long - Python is smart enough that if you break a line that has parentheses without closing those parentheses, it indents and considers the whole thing as one line.  In general, an indented line is considered a continuation of the previous one."
   ]
  },
  {
   "cell_type": "code",
   "execution_count": 12,
   "metadata": {},
   "outputs": [
    {
     "name": "stdout",
     "output_type": "stream",
     "text": [
      "time = 0:40 ;  voltage= 5.35  Volts\n"
     ]
    }
   ],
   "source": [
    "# print the time and voltage for the 5th point again, breaking the print command in half\n",
    "print('time =',mydata['Time (min:sec)'][4],\n",
    "      ';  voltage=',mydata['Voltage (V)'][4],\" Volts\")"
   ]
  },
  {
   "cell_type": "code",
   "execution_count": 13,
   "metadata": {},
   "outputs": [
    {
     "data": {
      "text/plain": [
       "4    0:40\n",
       "5    0:50\n",
       "Name: Time (min:sec), dtype: object"
      ]
     },
     "execution_count": 13,
     "metadata": {},
     "output_type": "execute_result"
    }
   ],
   "source": [
    "# extract 5th and 6th data point for time\n",
    "mydata['Time (min:sec)'][4:6]     #using a range of points"
   ]
  },
  {
   "cell_type": "markdown",
   "metadata": {},
   "source": [
    "You can use the object we used to extract the titles up above as **shorthand for the column title** if you don't want to keep track of exactly what you called each column (which is case sensitive) when you saved the data initially."
   ]
  },
  {
   "cell_type": "code",
   "execution_count": 14,
   "metadata": {},
   "outputs": [
    {
     "name": "stdout",
     "output_type": "stream",
     "text": [
      "first object in titlelist: Time (min:sec)\n"
     ]
    },
    {
     "data": {
      "text/plain": [
       "4    0:40\n",
       "5    0:50\n",
       "Name: Time (min:sec), dtype: object"
      ]
     },
     "execution_count": 14,
     "metadata": {},
     "output_type": "execute_result"
    }
   ],
   "source": [
    "# repeating last command using titlelist[0] to refer to 'Time (min:sec)'\n",
    "print('first object in titlelist:',titlelist[0])\n",
    "mydata[titlelist[0]][4:6]  "
   ]
  },
  {
   "cell_type": "markdown",
   "metadata": {},
   "source": [
    "To convert a column of **text into a number**, it is straightforward if the text looks like numbers:\n",
    "\n",
    "- `signal = mydata['title2']`"
   ]
  },
  {
   "cell_type": "code",
   "execution_count": 15,
   "metadata": {},
   "outputs": [
    {
     "data": {
      "text/plain": [
       "0    0.00\n",
       "1    1.76\n",
       "2    3.21\n",
       "3    4.39\n",
       "4    5.35\n",
       "Name: Voltage (V), dtype: float64"
      ]
     },
     "execution_count": 15,
     "metadata": {},
     "output_type": "execute_result"
    }
   ],
   "source": [
    "# generate a 1D array of the signal\n",
    "signal = mydata['Voltage (V)']\n",
    "signal.head(5)"
   ]
  },
  {
   "cell_type": "markdown",
   "metadata": {},
   "source": [
    "Note it identifies the new object `signal` as a floating point datatype.  If none of the numbers has a decimal point, it will make them integers.\n",
    "\n",
    "If there are non-numerical characters, however, such as in the min:sec column, it keeps the array as text.\n",
    "- `textdata = mydata['textcoltitle']`"
   ]
  },
  {
   "cell_type": "code",
   "execution_count": 16,
   "metadata": {
    "scrolled": true
   },
   "outputs": [
    {
     "data": {
      "text/plain": [
       "14    2:20\n",
       "15    2:30\n",
       "16    2:40\n",
       "17    2:50\n",
       "18    3:00\n",
       "Name: Time (min:sec), dtype: object"
      ]
     },
     "execution_count": 16,
     "metadata": {},
     "output_type": "execute_result"
    }
   ],
   "source": [
    "# extract the text from the min:sec column\n",
    "\n",
    "time_txt=mydata['Time (min:sec)']\n",
    "time_txt.tail(5)  #show the last 5 time values"
   ]
  },
  {
   "cell_type": "markdown",
   "metadata": {},
   "source": [
    "Note the datatype is now \"object\" instead of \"float64\", since it is still text."
   ]
  },
  {
   "cell_type": "markdown",
   "metadata": {},
   "source": [
    "### Parse text into numbers\n",
    "\n",
    "If the text needs to be parsed to turn it into numbers, you can use the `split` command.  `split` eliminates the text that is the argument of `split('txt')` and puts the segments into an array.  (Note, this is essentially what the read_csv command does with commas.)  If there are units at the end of the data you read in, then select the unit as the argument of split and take what comes beforehand.\n",
    "\n",
    "  **Split Text**\n",
    "\n",
    "- `textdata.split('txt')[0]` extracts the text to the left of the the first incidence of `'txt'`\n",
    "\n",
    "- `textdata.split('txt')[M]` extracts the text between the M-1 and M incidence of `'txt'`\n",
    "\n",
    "The result of this is still text. \n",
    "\n",
    "To turn **text into a floating point** number: use the `float` command.\n",
    "\n",
    "- `value = float(textnumber)`\n",
    "\n",
    "The `float` command works on an individual text value, and doesn't allow us to convert the whole column of text at once.  To convert an entire column of text, we need to:\n",
    "\n",
    "  - create a floating point array, \n",
    "  - load it up one row at a time with a for loop \n",
    "\n",
    "For the example file, we need to create separate floating point numbers from the minutes and seconds part of the text, and do the math to multiply the minutes component by 60 and add to the seconds.\n",
    "\n",
    "**Create a blank array**\n",
    "\n",
    "Arrays are more efficient than general objects since they always contain numbers, so the system doesn't have to keep converting from text to numbers.  The simplest is to create one using numpy and load it with zeros (you will update later).  \n",
    "\n",
    "To **create an array of length *N***,\n",
    "\n",
    "- `myarray = np.zeros(N)`\n",
    "\n",
    "If you would rather, you can load it with ones:\n",
    "\n",
    "- `myarray = np.ones(N)`"
   ]
  },
  {
   "cell_type": "markdown",
   "metadata": {},
   "source": [
    "**Populate the array from your text data**\n",
    "   \n",
    "You can't just equate the array and the objects - you need to do the conversion one row at a time.  Thus, you need to set up a **for loop**.  \n",
    "\n",
    "- **for loop** \n",
    "\n",
    "The for loop has the syntax\n",
    "\n",
    "- `for x in range(n,m):`\n",
    "    - `array[x]=expression1`\n",
    "\n",
    "The **for loop** executes the code following it for the conditions given in the first line. In this case, for x = n, n+1, n+2, ..., m-1, which is what the `range` command specifies.  Note the loop doesn't have an end line - you start the list of commands to execute by ending the first line with a colon; you end the list by stopping the indent.\n",
    "\n",
    "The set of values you run over in the loop can be anything.  For example, you could read in lots of files by putting a list of their names (or use wild cards with asterisk `*`) into an object called filelist, and then having `for myfile in filelist:` followed by the command to read in the files.\n",
    "\n",
    "The example below determines the size of the time array, creates it, then processes the text in the form min:sec to find the seconds and add 60 $\\times$ minutes.  For descriptions of various math operations, see a later section."
   ]
  },
  {
   "cell_type": "code",
   "execution_count": 17,
   "metadata": {},
   "outputs": [
    {
     "name": "stdout",
     "output_type": "stream",
     "text": [
      "text  0:40 ;  sec  40.0\n",
      "text  0:50 ;  sec  50.0\n",
      "text  1:00 ;  sec  60.0\n",
      "text  1:10 ;  sec  70.0\n"
     ]
    },
    {
     "data": {
      "text/plain": [
       "array([  0.,  10.,  20.,  30.,  40.,  50.,  60.,  70.,  80.,  90., 100.,\n",
       "       110., 120., 130., 140., 150., 160., 170., 180.])"
      ]
     },
     "execution_count": 17,
     "metadata": {},
     "output_type": "execute_result"
    }
   ],
   "source": [
    "# create an array for the numbers and populate it with zeros\n",
    "\n",
    "rows=mydata.shape[0]     # figure out how long to make the array\n",
    "time_sec=np.zeros(rows)  # make the array\n",
    "\n",
    "# set up a loop extracting seconds and minutes from the txt array extracted above with ':' as the split txt\n",
    "# multiply minutes by 60 and add to seconds\n",
    "\n",
    "for x in range(rows):                                 # note the implied 0 in range(n,m) n=0 if missing\n",
    "    time_sec[x]=float(time_txt[x].split(':')[1])      # [1] takes the part after the colon (sec)\n",
    "    time_sec[x]+=60*float(time_txt[x].split(':')[0])  # [0] is before : (min); a+=b is a short hand way of a=a+b\n",
    "    \n",
    "# print a few relevant rows to make sure it worked\n",
    "\n",
    "for x in range(4,8):            #this prints rows 5, 6, 7, 8\n",
    "    print('text ', time_txt[x],';  sec ', time_sec[x])  \n",
    "    \n",
    "# see that it is an array\n",
    "time_sec"
   ]
  },
  {
   "cell_type": "markdown",
   "metadata": {},
   "source": [
    "## Combine data or create subsets\n",
    "\n",
    "**Combine columns of data into a single object.**\n",
    "\n",
    "If you have read in data from multiple sources, or created a new object based on your data (e.g., you entered angle, and you created an array with sin(angle)), you might want to put all the data into a single matrix array.  To take two columns of length *N* and create a new $2\\times N$ array from them:\n",
    "\n",
    "- `array2D=np.array([firstcol,secondcol])`\n",
    "\n",
    "This also works for a bigger matrix\n",
    "\n",
    "- `arrayND = np.array([col1,col2,col3,...,colN])`\n"
   ]
  },
  {
   "cell_type": "code",
   "execution_count": 18,
   "metadata": {},
   "outputs": [
    {
     "name": "stdout",
     "output_type": "stream",
     "text": [
      "time  40.0 signal 5.35\n",
      "time  50.0 signal 6.16\n",
      "time  60.0 signal 6.8\n",
      "time  70.0 signal 7.35\n"
     ]
    },
    {
     "data": {
      "text/plain": [
       "array([[  0.  ,  10.  ,  20.  ,  30.  ,  40.  ,  50.  ,  60.  ,  70.  ,\n",
       "         80.  ,  90.  , 100.  , 110.  , 120.  , 130.  , 140.  , 150.  ,\n",
       "        160.  , 170.  , 180.  ],\n",
       "       [  0.  ,   1.76,   3.21,   4.39,   5.35,   6.16,   6.8 ,   7.35,\n",
       "          7.77,   8.12,   8.39,   8.67,   8.82,   9.02,   9.12,   9.26,\n",
       "          9.31,   9.41,   9.46]])"
      ]
     },
     "execution_count": 18,
     "metadata": {},
     "output_type": "execute_result"
    }
   ],
   "source": [
    "# take the time in seconds and the voltage and put them into a 2D floating point array\n",
    "\n",
    "xydata=np.array([time_sec,signal])\n",
    "\n",
    "for x in range(4,8):            #this prints rows 5, 6, 7, 8\n",
    "    print('time ', xydata[0][x],'signal', xydata[1][x])  \n",
    "    \n",
    "# see what the array looks like (which is how you could type it in element by element)\n",
    "xydata"
   ]
  },
  {
   "cell_type": "markdown",
   "metadata": {},
   "source": [
    "You can **extract a subset of your data** into a smaller array, as well.  If you have a large array `bigarray`, you can **extract the N+1 to Mth data points** into a smaller array with:\n",
    "\n",
    "- `subarray=np.zeros(M-N)`\n",
    "- `subarray=bigarray[N:M]`"
   ]
  },
  {
   "cell_type": "code",
   "execution_count": 19,
   "metadata": {},
   "outputs": [
    {
     "data": {
      "text/plain": [
       "array([ 60.,  70.,  80.,  90., 100., 110.])"
      ]
     },
     "execution_count": 19,
     "metadata": {},
     "output_type": "execute_result"
    }
   ],
   "source": [
    "# extract time for just the second minute\n",
    "time_min2=np.zeros(6)\n",
    "time_min2=time_sec[6:12]\n",
    "time_min2"
   ]
  },
  {
   "cell_type": "markdown",
   "metadata": {},
   "source": [
    "You can **extract data from the $P^{th}$ column of a 2D array**:\n",
    "- `subarray2=np.zeros(M-N)`   1D array M-N points long\n",
    "- `subarray2=2Darray[P-1,N:M]`  pull out points N+1 through M and put it into subarray2\n",
    "\n",
    "Another way to pull a whole column\n",
    "- `subarray3=np.zeros(2Darray.shape[0])`  a new 1D array with the same number of rows as 2Darray\n",
    "- `subarray3 = 2Darray[P-1,:]`   a single colon `:` means the whole column."
   ]
  },
  {
   "cell_type": "code",
   "execution_count": 20,
   "metadata": {},
   "outputs": [
    {
     "data": {
      "text/plain": [
       "array([6.8 , 7.35, 7.77, 8.12, 8.39, 8.67])"
      ]
     },
     "execution_count": 20,
     "metadata": {},
     "output_type": "execute_result"
    }
   ],
   "source": [
    "# volts for second minute\n",
    "sig_min2=np.zeros(6)\n",
    "sig_min2=xydata[1,6:12]     #extract points 7 to 12 from the 2nd column of xydata\n",
    "sig_min2"
   ]
  },
  {
   "cell_type": "markdown",
   "metadata": {},
   "source": [
    "## Create DataFrame and export to csv\n",
    "\n",
    "You can create a **data frame** (using pandas) with your columns of data and give them titles.  Each column can have different properties (text, floating point, value with its uncertainty)\n",
    "\n",
    "- `data_df = pd.DataFrame()`\n",
    "- `data_df['Title0'] = [x1,x2,x3,x4,x5,x6]`\n",
    "- `data_df['Title1'] = array1`\n",
    "\n",
    "One nice thing about a dataframe is you can just keep adding columns to it."
   ]
  },
  {
   "cell_type": "code",
   "execution_count": 21,
   "metadata": {},
   "outputs": [
    {
     "data": {
      "text/html": [
       "<div>\n",
       "<style scoped>\n",
       "    .dataframe tbody tr th:only-of-type {\n",
       "        vertical-align: middle;\n",
       "    }\n",
       "\n",
       "    .dataframe tbody tr th {\n",
       "        vertical-align: top;\n",
       "    }\n",
       "\n",
       "    .dataframe thead th {\n",
       "        text-align: right;\n",
       "    }\n",
       "</style>\n",
       "<table border=\"1\" class=\"dataframe\">\n",
       "  <thead>\n",
       "    <tr style=\"text-align: right;\">\n",
       "      <th></th>\n",
       "      <th>Point</th>\n",
       "      <th>Time (s)</th>\n",
       "      <th>Signal (V)</th>\n",
       "    </tr>\n",
       "  </thead>\n",
       "  <tbody>\n",
       "    <tr>\n",
       "      <th>0</th>\n",
       "      <td>a</td>\n",
       "      <td>60.0</td>\n",
       "      <td>6.80</td>\n",
       "    </tr>\n",
       "    <tr>\n",
       "      <th>1</th>\n",
       "      <td>b</td>\n",
       "      <td>70.0</td>\n",
       "      <td>7.35</td>\n",
       "    </tr>\n",
       "    <tr>\n",
       "      <th>2</th>\n",
       "      <td>c</td>\n",
       "      <td>80.0</td>\n",
       "      <td>7.77</td>\n",
       "    </tr>\n",
       "    <tr>\n",
       "      <th>3</th>\n",
       "      <td>d</td>\n",
       "      <td>90.0</td>\n",
       "      <td>8.12</td>\n",
       "    </tr>\n",
       "    <tr>\n",
       "      <th>4</th>\n",
       "      <td>e</td>\n",
       "      <td>100.0</td>\n",
       "      <td>8.39</td>\n",
       "    </tr>\n",
       "    <tr>\n",
       "      <th>5</th>\n",
       "      <td>f</td>\n",
       "      <td>110.0</td>\n",
       "      <td>8.67</td>\n",
       "    </tr>\n",
       "  </tbody>\n",
       "</table>\n",
       "</div>"
      ],
      "text/plain": [
       "  Point  Time (s)  Signal (V)\n",
       "0     a      60.0        6.80\n",
       "1     b      70.0        7.35\n",
       "2     c      80.0        7.77\n",
       "3     d      90.0        8.12\n",
       "4     e     100.0        8.39\n",
       "5     f     110.0        8.67"
      ]
     },
     "execution_count": 21,
     "metadata": {},
     "output_type": "execute_result"
    }
   ],
   "source": [
    "# make a dataframe of the 2nd minute data, labelling the data points a,b,c,d,e,f\n",
    "\n",
    "minute2_df = pd.DataFrame()                        # create the empty dataframe\n",
    "minute2_df['Point'] = ['a','b','c','d','e','f']    # create a column \"Point\" and fill it with 6 letters\n",
    "minute2_df['Time (s)'] = time_min2                 # create a column \"Time (s)\" and fill it with time_min2\n",
    "minute2_df['Signal (V)'] = sig_min2                # again for the voltage signal\n",
    "\n",
    "# print the frame as a nice table\n",
    "minute2_df"
   ]
  },
  {
   "cell_type": "markdown",
   "metadata": {},
   "source": [
    "You are now ready to go full circle to **save dataframe as a csv file**.\n",
    "\n",
    "- `data_df.to_csv('fileout.csv')`"
   ]
  },
  {
   "cell_type": "code",
   "execution_count": 22,
   "metadata": {},
   "outputs": [],
   "source": [
    "# save data frame to a csv file\n",
    "minute2_df.to_csv('minute2.csv')"
   ]
  },
  {
   "cell_type": "code",
   "execution_count": 23,
   "metadata": {},
   "outputs": [
    {
     "name": "stdout",
     "output_type": "stream",
     "text": [
      "total 384\n",
      "-rw-r--r-- 1 jovyan users 380084 Jun 17 19:50 'Lab Commands.ipynb'\n",
      "-rw-r--r-- 1 jovyan users    112 Jun 17 19:50  minute2.csv\n",
      "-rw-r--r-- 1 jovyan users    238 Jun 17 17:03  testdata.csv\n",
      "-rw-r--r-- 1 jovyan users    387 Jun 17 19:26  threetrial.csv\n"
     ]
    }
   ],
   "source": [
    "# check it has been saved (or just look in your list of files at the left)\n",
    "%ls -l"
   ]
  },
  {
   "cell_type": "markdown",
   "metadata": {},
   "source": [
    "# Plotting Data\n",
    "\n",
    "In general, plotting data is one of the best ways to get a handle on it.  We will use `matplotlib` for plotting, which we defined back in cell `[1]` as `plt`.  \n",
    "\n",
    "You can get a quick, autoscaled plot of ydata vs. xdata to check something with the simple command:\n",
    "- `plt.plot(xdata,ydata)`\n",
    "\n",
    "This, of course, is not appropriate for your final product.  That should have such features as labels on your axes, a title for your graph, error bars, grid lines, a legend, appropriate aspect ratio and axes limits for the data, etc.\n",
    "\n",
    "## Commands\n",
    "\n",
    "Basic commands are:\n",
    " - `plt.figure(figsize=(x,y))` makes the figure x units wide, y units high.  The default is 6 x 4.\n",
    " - `plt.grid()` adds grid lines to the plot\n",
    " - `plt.title('Title')` adds a title of what is in 'quotes'.  Note that the text in 'quotes' can include what ever you type (including symbols or Greek) by typing them directly from your computer keyboard.  It doesn't do Latex well. \n",
    " - `plt.ylabel('Y Label')` labels the Y axis\n",
    " - `plt.xlabel('X Label')` labels the X axis\n",
    " - `plt.xlim(left,right)` sets the range of the x axis (left and right are numbers)\n",
    " - `plt.ylim(bot,top)` sets the range of the y axis\n",
    " - `plt.plot(xarray,yarray,'sb',label='id')` plots yarray vs xarray with squares (s) that are blue (b) and calls it 'id' in the legend. \n",
    " -- The first character is shape: s for square, o for circle, - for line, . for dots, d for diamond, ^ for triangle.  \n",
    " -- The second character is color:  b for blue, r for red, g for green, k for black, p for purple\n",
    " -- The label is what goes in a legend should you have one.\n",
    " - `plt.plot(xyarray['xtitle'][n:m],array['ytitle'][n:m],'.')` plots the data in an array in the range n+1 to m from the column with title 'ytitle' vs the column with the title 'xtitle', as dots\n",
    " - `plt.errorbar(xarray2, yvalues,yerr=yerrors,fmt='or',label='id')` plots with yerrors used as error bars on the y data, with points having format in fmt\n",
    " - `plt.legend(title='optionaltitle')` adds a legend using the labels and data pt types (with 'optionaltitle' at the top if desired; if not, just use `plt.legend()`\n",
    " - `plt.xscale(\"log\")` makes the x-axis logarithmic (same works for y)\n",
    " - `plt.yscale(\"linear\")` makes the y-axis linear (the default if not included)\n",
    " - end the last command with a semicolon to note that you are done.\n",
    " \n",
    " If you want to plot just a range of data, and that range might change, it is simplest to define a range as an object that you change at the top of your code instead of having to change all the times it shows up.\n",
    " \n",
    "   - `index = list(range(N,M,P))`   produces the integers from N to M-1 in steps of P and stores it in index.  (default for P is 1)\n",
    " \n",
    "   - `plt.plot(xarray[index],yarray[index],'.')` plots dots for points N+1 to M of the array, taking only every $\\rm{P^{th}}$ point \n",
    " \n",
    " To do something else, check out https://matplotlib.org/stable/index.html\n",
    " \n",
    "Below are a few examples."
   ]
  },
  {
   "cell_type": "markdown",
   "metadata": {},
   "source": [
    "## Examples"
   ]
  },
  {
   "cell_type": "code",
   "execution_count": 24,
   "metadata": {},
   "outputs": [
    {
     "data": {
      "text/plain": [
       "[<matplotlib.lines.Line2D at 0x7f78c0b4ffd0>]"
      ]
     },
     "execution_count": 24,
     "metadata": {},
     "output_type": "execute_result"
    },
    {
     "data": {
      "image/png": "[encoded data removed]",
      "text/plain": [
       "<Figure size 432x288 with 1 Axes>"
      ]
     },
     "metadata": {
      "needs_background": "light"
     },
     "output_type": "display_data"
    }
   ],
   "source": [
    "# just plot quickly, with no labels, etc.\n",
    "plt.plot(time_sec,signal)"
   ]
  },
  {
   "cell_type": "code",
   "execution_count": 25,
   "metadata": {},
   "outputs": [
    {
     "data": {
      "image/png": "[encoded data removed]",
      "text/plain": [
       "<Figure size 576x432 with 1 Axes>"
      ]
     },
     "metadata": {
      "needs_background": "light"
     },
     "output_type": "display_data"
    }
   ],
   "source": [
    "# plot the data we've been looking at properly, plus the minute 2 data as stored in the dataframe, times 0.8\n",
    "\n",
    "# generate figure with grid, title and axis labels\n",
    "plt.figure(figsize=(8,6))\n",
    "plt.grid()\n",
    "plt.title(' Saturation Process ')\n",
    "plt.ylabel('Signal (V)')\n",
    "plt.xlabel('Time (s)')\n",
    "\n",
    "# add the data\n",
    "\n",
    "plt.plot(time_sec,signal,'ob',label='full data')    # raw data, plotted as blue circles\n",
    "\n",
    "# you can do math on the data as you plot it without changing the original data\n",
    "\n",
    "plt.plot(minute2_df['Time (s)'],0.8*minute2_df['Signal (V)'],'-r',\n",
    "         label='0.8 * minute 2')      # 0.8 * data, as a red line between points, data in the 2nd minute array\n",
    "\n",
    "# set axis limits\n",
    "plt.xlim(0,200)\n",
    "plt.ylim(0,10)\n",
    "\n",
    "# print legend\n",
    "plt.legend();\n"
   ]
  },
  {
   "cell_type": "code",
   "execution_count": 26,
   "metadata": {},
   "outputs": [
    {
     "data": {
      "image/png": "[encoded data removed]",
      "text/plain": [
       "<Figure size 648x468 with 1 Axes>"
      ]
     },
     "metadata": {
      "needs_background": "light"
     },
     "output_type": "display_data"
    }
   ],
   "source": [
    "# plot data in 3 ways:\n",
    "# plot every other point of the data set for minutes 2 and 3 by using range(N,M,P)\n",
    "# plot first minute, all data points, in a different color\n",
    "# plot points 6 to 17 with error bars, shifted for clarity\n",
    "\n",
    "# figure and labels\n",
    "plt.figure(figsize=(9,6.5))\n",
    "plt.grid()\n",
    "plt.title(' Saturation Process ')\n",
    "plt.ylabel('Signal (V)')\n",
    "plt.xlabel('Time (s)')\n",
    "\n",
    "# create index range for first curve\n",
    "index = list(range(6,rows,2))   # data 6, 8, 10, ... -- the 2 means every 2nd point\n",
    "\n",
    "# plot data limiting point with index\n",
    "plt.plot(time_sec[index],signal[index],'sr',label='from index')   # only plot points in index range (red squares)\n",
    "\n",
    "# plot range put in directly, extract a column from a matrix to plot, blue circles\n",
    "\n",
    "plt.plot(time_sec[0:5],mydata['Voltage (V)'][0:5],'ob',label='pull column and range') \n",
    "\n",
    "# plot with error bars equal to 0.3 Volts, shifted down 0.5 V to be visible, green diamonds\n",
    "\n",
    "plt.errorbar(time_sec[5:17], signal[5:17] - 0.5,yerr=.3,fmt='dg',label='shift -0.5 V, with error')\n",
    "\n",
    "# axis range and legend\n",
    "\n",
    "plt.xlim(0,200)\n",
    "plt.ylim(0,10)\n",
    "plt.legend();"
   ]
  },
  {
   "cell_type": "markdown",
   "metadata": {},
   "source": [
    "# Doing math on your data\n",
    "\n",
    "If you do an operation on an array or column of numbers, you do the same operation to each element of the array.  \n",
    "\n",
    "## Built in functions\n",
    "\n",
    "**Simple operations** are built into the python:\n",
    "\n",
    "*combining arrays with numbers*\n",
    "\n",
    "- `B = x*A` :   $B = nA$. `*`  multiplies each element of $A$ by $n$ and stores in $B$ array: $B[p]=x*A[p]$.  Note that $xA$ is assumed to be another object, and ≠ $x*A$\n",
    "- `C = A**x` :  $C = A^x$. `**` raises each element of $A$ to the power $x$ and stores in $B$ array.  : $C[p]=(A[p])^x$  NOTE:  do not use ^ (shift-6) as this won't do what you want\n",
    "- `D = A/x` :   $D = \\frac{A}{x}$. `/` divides each element of $A$ by $x$: $D[p]=\\frac{A[p]}{x}$\n",
    "- `E = A + x` : $E = A + x$. `+` adds $x$ to each element of $A$: $E[p] = A[p] + x$\n",
    "- `F = A - x` : $F = A - x$. `-` subtracts $x$ from each element of $A$: $F[p]=A[p]- x$\n",
    "- `G = x` : If you have already created an array $G$, this puts $x$ into each element of $G$:  $G[p]=x$\n",
    "\n",
    "If you want to keep the result in $A$, you have two choices:\n",
    "\n",
    "- `A = x*A`: results in $A[p]=x*(oldA[p])$\n",
    "- `A *= x` : shorthand for take every element of $A$ and multiply it by $x$, leaving result in $A$.  This also works for addition (+), subtraction (-), division (/), and power (`**`), as long as you have an array.\n",
    "\n",
    "\n",
    "*combining arrays with each other*\n",
    "\n",
    "- `G = A + B` : creates an array the same length as A or B, $G[p] = A[p] + B[p]$\n",
    "- `G = A * B` : $G[p] = A[p] * B[p]$  Note this is different from matrix multiplication - more like columns in an excel sheet.\n",
    "\n",
    "Below is an example of this math to see how it works (run the cells in a different order and see what happens)\n",
    "\n"
   ]
  },
  {
   "cell_type": "code",
   "execution_count": 27,
   "metadata": {},
   "outputs": [
    {
     "data": {
      "text/plain": [
       "array([1, 2, 3])"
      ]
     },
     "execution_count": 27,
     "metadata": {},
     "output_type": "execute_result"
    }
   ],
   "source": [
    "test = np.array([1,2,3])  #create a simple array [1,2,3]\n",
    "test"
   ]
  },
  {
   "cell_type": "code",
   "execution_count": 28,
   "metadata": {},
   "outputs": [
    {
     "data": {
      "text/plain": [
       "array([3, 4, 5])"
      ]
     },
     "execution_count": 28,
     "metadata": {},
     "output_type": "execute_result"
    }
   ],
   "source": [
    "test+=2   #add 2 to each element\n",
    "test"
   ]
  },
  {
   "cell_type": "code",
   "execution_count": 29,
   "metadata": {},
   "outputs": [
    {
     "data": {
      "text/plain": [
       "array([  27,  256, 3125])"
      ]
     },
     "execution_count": 29,
     "metadata": {},
     "output_type": "execute_result"
    }
   ],
   "source": [
    "test**=test  #raise each element to itself (3 cubed, etc)\n",
    "test"
   ]
  },
  {
   "cell_type": "code",
   "execution_count": 30,
   "metadata": {},
   "outputs": [
    {
     "data": {
      "text/plain": [
       "array([  9.,  64., 625.])"
      ]
     },
     "execution_count": 30,
     "metadata": {},
     "output_type": "execute_result"
    }
   ],
   "source": [
    "test = test / [3,4,5]  #divide the first element by 3, 2nd by 4, 3rd by 5\n",
    "test"
   ]
  },
  {
   "cell_type": "markdown",
   "metadata": {},
   "source": [
    "## Numpy (More complicated) functions\n",
    "\n",
    "Use the numpy library (abbreviated as np) for more complex operations on your data.  These work on arrays as opposed to generic objects that could be text, etc.  Common ones for the lab include:\n",
    "\n",
    "- `np.log(x)` : $\\ln (x)$\n",
    "- `np.exp(x)` : $\\exp (x) = e^x$\n",
    "- `np.log10(x)` : $\\log (x)$\n",
    "- `np.sqrt(x)` : $\\sqrt{x}$\n",
    "- `np.sin(x)` : $\\sin (x)$, where $x$ is in radians (cos, tan work the same way)\n",
    "- `np.arcsin(x)` : $\\sin ^{-1} (x)$ with the result in radians (arccos, arctan work the same way)\n",
    "- `np.deg2rad(x)` : $\\pi x/180$ (degrees to radians)\n",
    "- `np.rad2deg(x)` : $180 x/\\pi$ (radians to degrees)\n",
    "\n",
    "A list of numpy functions is at https://numpy.org/doc/stable/reference/ufuncs.html#available-ufuncs.\n",
    "\n",
    "Below, a simple example of numpy operations on the array [1,2,3], putting the results into a pandas dataframe"
   ]
  },
  {
   "cell_type": "code",
   "execution_count": 31,
   "metadata": {},
   "outputs": [
    {
     "data": {
      "text/html": [
       "<div>\n",
       "<style scoped>\n",
       "    .dataframe tbody tr th:only-of-type {\n",
       "        vertical-align: middle;\n",
       "    }\n",
       "\n",
       "    .dataframe tbody tr th {\n",
       "        vertical-align: top;\n",
       "    }\n",
       "\n",
       "    .dataframe thead th {\n",
       "        text-align: right;\n",
       "    }\n",
       "</style>\n",
       "<table border=\"1\" class=\"dataframe\">\n",
       "  <thead>\n",
       "    <tr style=\"text-align: right;\">\n",
       "      <th></th>\n",
       "      <th>x</th>\n",
       "      <th>log</th>\n",
       "      <th>exp</th>\n",
       "      <th>sqrt</th>\n",
       "      <th>atan(rad)</th>\n",
       "      <th>atan(deg)</th>\n",
       "    </tr>\n",
       "  </thead>\n",
       "  <tbody>\n",
       "    <tr>\n",
       "      <th>0</th>\n",
       "      <td>1</td>\n",
       "      <td>0.000000</td>\n",
       "      <td>2.718282</td>\n",
       "      <td>1.000000</td>\n",
       "      <td>0.785398</td>\n",
       "      <td>45.000000</td>\n",
       "    </tr>\n",
       "    <tr>\n",
       "      <th>1</th>\n",
       "      <td>2</td>\n",
       "      <td>0.693147</td>\n",
       "      <td>7.389056</td>\n",
       "      <td>1.414214</td>\n",
       "      <td>1.107149</td>\n",
       "      <td>63.434949</td>\n",
       "    </tr>\n",
       "    <tr>\n",
       "      <th>2</th>\n",
       "      <td>3</td>\n",
       "      <td>1.098612</td>\n",
       "      <td>20.085537</td>\n",
       "      <td>1.732051</td>\n",
       "      <td>1.249046</td>\n",
       "      <td>71.565051</td>\n",
       "    </tr>\n",
       "  </tbody>\n",
       "</table>\n",
       "</div>"
      ],
      "text/plain": [
       "   x       log        exp      sqrt  atan(rad)  atan(deg)\n",
       "0  1  0.000000   2.718282  1.000000   0.785398  45.000000\n",
       "1  2  0.693147   7.389056  1.414214   1.107149  63.434949\n",
       "2  3  1.098612  20.085537  1.732051   1.249046  71.565051"
      ]
     },
     "execution_count": 31,
     "metadata": {},
     "output_type": "execute_result"
    }
   ],
   "source": [
    "# examples\n",
    "test=np.array([1,2,3])  # create an array\n",
    "test_df=pd.DataFrame()  # create a data frame and then populate it\n",
    "test_df['x']=test\n",
    "test_df['log']=np.log(test)\n",
    "test_df['exp']=np.exp(test)\n",
    "test_df['sqrt']=np.sqrt(test)\n",
    "test_df['atan(rad)']=np.arctan(test)\n",
    "test_df['atan(deg)']=np.rad2deg(np.arctan(test))\n",
    "test_df"
   ]
  },
  {
   "cell_type": "markdown",
   "metadata": {},
   "source": [
    "## Creating your own function\n",
    "\n",
    "If you want to do something that is not a simple function, you can create your own.  \n",
    "\n",
    "The general format is:\n",
    "\n",
    "```\n",
    "def myfunction(x,parameterlist,constant1=val2,constant2=val2):\n",
    "    result = (some expression involving x, parameters in the parameterlist, and constants)\n",
    "    return result\n",
    "```\n",
    "\n",
    "The first line defines a function of `x` with the name `myfunction` that has parameters you pull in from elsewhere listed in `parameterlist` - this can be an array with the names in it or a comma-delimited list - and then any parameters that you want to set a default value for and don't have to enter every time.  If you do include a number, that will override the default.   \n",
    "\n",
    "Always end the first line with a colon, and then the next lines define the function.  End with the line `return valuetoreturn`, and then stop indenting.\n",
    "\n",
    "To call the function, you input values for the x and parameter list.\n",
    "\n",
    "- `output = myfunction(xval,par1,par2)`\n",
    "\n",
    "In general, all the arguments of the function, *x*, *par1*, *par2*, *constant1*, etc.  are equivalent.  When using a function for fitting, it is good programming practice to have the first one be the independent variable for your data. The parameters in `parameterlist` can vary when you are fitting to this function (see below), but the constants are set by what you enter when you call the function. \n",
    "\n",
    "\n",
    "For example, consider the function for electric potential,\n",
    "\n",
    "$$V = k_e \\frac{q}{r}$$\n",
    "\n",
    "The value of the constant $k_e$ will depend on our unit system, so we will want to specify it as we run the function sometimes, but not always - we give it a default value.  The potential varies as a function of position $r$, with the curve depending on charge $q$."
   ]
  },
  {
   "cell_type": "code",
   "execution_count": 32,
   "metadata": {},
   "outputs": [],
   "source": [
    "# define a function for the Coulomb potential\n",
    "\n",
    "def v_coulomb(r,q,k_e=9e9):\n",
    "    pot = 0\n",
    "    try:\n",
    "        pot = k_e*q/r         # basic formula that might generate an error\n",
    "    except ZeroDivisionError: # the error we want to deal with\n",
    "        return 1e10           # how to deal with that error\n",
    "    return pot\n"
   ]
  },
  {
   "cell_type": "markdown",
   "metadata": {},
   "source": [
    "Notice the use of the try/except structure to avoid dividing by zero.  That has the general format:\n",
    "\n",
    "\n",
    "```\n",
    "try:\n",
    "\texpression that might go wrong\n",
    "except: \n",
    "\twhat to do if it does go wrong.\n",
    "else:\n",
    "\twhat to do if it succeeds\n",
    "finally:\n",
    "\twhat to do no matter what happens \n",
    "```\n",
    "In this case, we have specified the error we expect as ZeroDivisionError.\n",
    "\n",
    "Below, print out the value of the function at r = 0, and r = 0.1m for q = 2 nanoCoulombs, and then switch the unit system by changing k_e and printing the electric potential for an electron at one Bohr radius."
   ]
  },
  {
   "cell_type": "code",
   "execution_count": 33,
   "metadata": {},
   "outputs": [
    {
     "name": "stdout",
     "output_type": "stream",
     "text": [
      "q= 2 nC, r=  0 cm V = 1.00e+10 V\n",
      "q= 2 nC, r= 10 cm V = 1.80e+02 V\n",
      "q = -e, r = a_o, k_e = 27.2: -27.2 eV\n"
     ]
    }
   ],
   "source": [
    "\n",
    "# check by printing value for 2 nC at 0 and 0.1 meters\n",
    "\n",
    "out = v_coulomb(0.0,2e-09)          #do not specify k_e, so it uses the default from defining it\n",
    "print(f'q= 2 nC, r=  0 cm V = {out:0.2e} V')\n",
    "out = v_coulomb(0.1,2e-09)\n",
    "print(f'q= 2 nC, r= 10 cm V = {out:0.2e} V')\n",
    "\n",
    "#set k_e = 27.2, measure q in electrons and r in Bohr radii\n",
    "\n",
    "out = v_coulomb(-1,1,27.2)       #give a value for k_e that supercedes the one in the fun definition\n",
    "print(f'q = -e, r = a_o, k_e = 27.2: {out} eV')\n",
    "\n"
   ]
  },
  {
   "cell_type": "markdown",
   "metadata": {},
   "source": [
    "The power of defining a function comes from both doing the same thing repeatedly to an array of data with slightly different parameters, or (later) to allow you to fit that function to your data to determine its parameters.  \n",
    "\n",
    "To **plot the function** you have created:\n",
    "\n",
    "First **create an array of equally spaced points** using the command\n",
    "\n",
    "-`np.linspace(low,high,npts)`\n",
    "\n",
    "where low is the starting value, high the ending value and npts the number of evenly spaced points."
   ]
  },
  {
   "cell_type": "code",
   "execution_count": 34,
   "metadata": {},
   "outputs": [
    {
     "data": {
      "text/plain": [
       "array([45., 46., 47., 48., 49., 50.])"
      ]
     },
     "execution_count": 34,
     "metadata": {},
     "output_type": "execute_result"
    }
   ],
   "source": [
    "# create a position array\n",
    "position=np.linspace(0,50,51)   #use 51 here so the points are 1 unit apart; if 50, the spacing would be 50/51.\n",
    "position[45:]  #print from the 46th point to the end of the array"
   ]
  },
  {
   "cell_type": "markdown",
   "metadata": {},
   "source": [
    "Then **calculate the value of the function** for this array of points."
   ]
  },
  {
   "cell_type": "code",
   "execution_count": 35,
   "metadata": {
    "scrolled": true
   },
   "outputs": [
    {
     "name": "stderr",
     "output_type": "stream",
     "text": [
      "<ipython-input-32-2f1ed81b8044>:6: RuntimeWarning: divide by zero encountered in true_divide\n",
      "  pot = k_e*q/r         # basic formula that might generate an error\n"
     ]
    },
    {
     "data": {
      "text/plain": [
       "array([  inf, 2700., 1350.,  900.,  675.])"
      ]
     },
     "execution_count": 35,
     "metadata": {},
     "output_type": "execute_result"
    }
   ],
   "source": [
    "# calculate the potential for charge 3 nC and position 0 to 50 cm\n",
    "potential=v_coulomb(position/100,3e-9)   #divide position by 100 to get it in meters (the right units for the default k_e)\n",
    "potential[:5]  #output the first 5 points"
   ]
  },
  {
   "cell_type": "markdown",
   "metadata": {},
   "source": [
    "Note that the floating point fix we used in the function for when we divide by zero didn't work with the array.  For the array, however, dividing by zero doesn't crash the function.  There are likely numpy ways to get around this, but I don't know what they are.\n",
    "\n",
    "Do a **quick plot** of the function."
   ]
  },
  {
   "cell_type": "code",
   "execution_count": 36,
   "metadata": {},
   "outputs": [
    {
     "data": {
      "text/plain": [
       "[<matplotlib.lines.Line2D at 0x7f78bc8fab50>]"
      ]
     },
     "execution_count": 36,
     "metadata": {},
     "output_type": "execute_result"
    },
    {
     "data": {
      "image/png": "[encoded data removed]",
      "text/plain": [
       "<Figure size 432x288 with 1 Axes>"
      ]
     },
     "metadata": {
      "needs_background": "light"
     },
     "output_type": "display_data"
    }
   ],
   "source": [
    "# plot potential vs position without labelling anything\n",
    "plt.plot(position,potential) "
   ]
  },
  {
   "cell_type": "markdown",
   "metadata": {},
   "source": [
    "# Uncertainty\n",
    "\n",
    "The uncertainties package is a very useful way of dealing with data and carrying its error bars along with it.  It is also smart enough to keep track of those uncertainties when combining data.  You first need to load in the package (done in step `[1]`, but again here for ease)\n",
    "\n",
    "- `import uncertainties as unc`\n",
    "- `from uncertainties import ufloat`\n",
    "- `from uncertainties.umath import *`   $\\sin()$, etc.\n",
    "- `from uncertainties import unumpy`   for doing numpy type operations on uncertainty objects\n",
    "\n"
   ]
  },
  {
   "cell_type": "code",
   "execution_count": 37,
   "metadata": {},
   "outputs": [],
   "source": [
    "import uncertainties as unc\n",
    "from uncertainties import ufloat    #this means you don't have to type unc.ufloat, but can just use ufloat\n",
    "from uncertainties.umath import *\n",
    "from uncertainties import unumpy"
   ]
  },
  {
   "cell_type": "markdown",
   "metadata": {},
   "source": [
    "## Creating uncertainty objects\n",
    "\n",
    "The uncertainty object is a single object that includes both the nominal value and its standard devation (or error bar).  Anytime you measure something in the lab, you should record both.  You also need to then propagate this uncertainty to your final result, and include it to weight your data when you fit it should it vary across your data (e.g. when the uncertainty $ \\delta x \\propto \\sqrt{x})$.  Propagating uncertainties used to be the hardest part of PHYS 431, but now Python does most of the work for you (although you do still need to understand what is going on).\n",
    "\n",
    "If you have a single datum, create the uncertainty object:\n",
    "\n",
    "- `udatum = unc.ufloat(value,error)`\n",
    "\n",
    "If you have arrays of the data values and their errors (standard deviation)\n",
    "\n",
    "- `uarray = unumpy.uarray(value_array,error_array)`\n",
    "\n",
    "If you have a set of data points already stored as uncertainty objects\n",
    "\n",
    "- `uarray = numpy.array(udatum1,udatum2,udatum3)`\n",
    "\n",
    "which is the same as\n",
    "- `uarray = numpy.array(ufloat(val1,err1),ufloat(val2,err2),ufloat(val3,err3)]`\n",
    "\n",
    "\n"
   ]
  },
  {
   "cell_type": "markdown",
   "metadata": {},
   "source": [
    "### Extracting from a text array that includes uncertainties\n",
    "\n",
    "If you have saved a dataframe that has an uncertainty object in it, it gets stored as text with $\\pm$ in it.  When you read it back in, you don't have to mess with `split` to pull the data back out.  There is a convenient command `ufloat_fromstr` you can import, and then use to extract the information.  All of the processes below result in the uncertainty object $x = (0.20,0.01)$\n",
    "\n",
    "- `from uncertainties import ufloat_fromstr`\n",
    "- `x = ufloat_fromstr(\"0.20+/-0.01\")`\n",
    "- `x = ufloat_fromstr(\"(2+/-0.1)e-01\")`  # Factored exponent\n",
    "- `x = ufloat_fromstr(\"0.20(1)\")`  # Short-hand notation\n",
    "- `x = ufloat_fromstr(\"20(1)e-2\")`  # Exponent notation\n",
    "- `x = ufloat_fromstr(u\"0.20±0.01\")`  # Pretty-print form"
   ]
  },
  {
   "cell_type": "markdown",
   "metadata": {},
   "source": [
    "## Extracting value and error from uncertainty object\n",
    "\n",
    "If you have an uncertainty object and want to plot or **extract values and/or errors**, use these commands:\n",
    "\n",
    "- `values = unumpy.nominal_values(uarray)`\n",
    "\n",
    "- `sigmas = unumpy.std_devs(uarray)`"
   ]
  },
  {
   "cell_type": "markdown",
   "metadata": {},
   "source": [
    "## Uncertainty object example\n",
    "\n",
    "Consider two data points, current = $2.01 \\pm 0.30$ Amps and voltage = $5.03 \\pm 0.40$ Volts, and consider how we find the value and error in the power, $P = I \\times V$.  Also, see how different formats print the result.\n"
   ]
  },
  {
   "cell_type": "code",
   "execution_count": 38,
   "metadata": {},
   "outputs": [
    {
     "name": "stdout",
     "output_type": "stream",
     "text": [
      "default format current: 2.01+/-0.30 voltage 5.0+/-0.4\n",
      "default format power:   10.1+/-1.7\n",
      "0.1uP format power:       10±     2\n",
      "0.2uP format power:     10.1±   1.7\n",
      "0.3uP format power:    10.11±  1.71\n",
      "default format power value 10.110299999999999 power error 1.7098236751197475\n"
     ]
    }
   ],
   "source": [
    "# create the data (could skip this and put the numbers directly in the next step)\n",
    "i_0 = 2.01\n",
    "i_del = 0.30\n",
    "v_0 = 5.03\n",
    "v_del = 0.40\n",
    "\n",
    "# create uncertainty objects\n",
    "u_i = unc.ufloat(i_0,i_del)\n",
    "u_v = unc.ufloat(v_0,v_del)\n",
    "\n",
    "print('default format current:',u_i,'voltage',u_v)   #default printing of uncertainty object\n",
    "\n",
    "# find power\n",
    "u_p = u_i*u_v  # P = IV\n",
    "print('default format power:  ',u_p)\n",
    "\n",
    "# print with defined sig figs  (see later for more on formatted print)\n",
    "print('0.1uP format power:   {0:6.1uP}'.format(u_p))\n",
    "print('0.2uP format power:   {0:6.2uP}'.format(u_p))  #2 sig figs on the error, and truncate value to reflect that\n",
    "print('0.3uP format power:   {0:6.3uP}'.format(u_p))\n",
    "\n",
    "# extract nominal values and error from power\n",
    "p_0=unumpy.nominal_values(u_p)\n",
    "p_del = unumpy.std_devs(u_p)\n",
    "\n",
    "print('default format power value', p_0, 'power error', p_del)  #all the decimal values stored\n"
   ]
  },
  {
   "cell_type": "markdown",
   "metadata": {},
   "source": [
    "Note that the uncertainy object keeps the values out to many significant figures (the last line), but the formatted print type `u` determines how many to print.\n",
    "\n",
    "To see that this is the correct propagation of error, look at the basic relation for propagating errors in quadrature:\n",
    "\n",
    "$$P = I \\times V$$\n",
    "\n",
    "$$\\frac{\\delta P}{P} = \\sqrt{\\left(\\frac{\\delta I}{I}\\right)^2 + \\left(\\frac{\\delta V}{V}\\right)^2}$$\n",
    "$$\\frac{\\delta P}{P} = \\sqrt{\\left(\\frac{0.3}{2.0}\\right)^2 + \\left(\\frac{0.4}{5.0}\\right)^2}$$\n",
    "$$\\frac{\\delta P}{P} =  0.171 $$\n",
    "\n",
    "Math on an array of uncertainty objects works the same way as this example, applying it row by row.  You should check and understand your error propagation, but it is OK in this lab to let Python do it for you as long as you understand what it is doing.\n",
    "\n",
    "To plot uncertainty objects, you need to extract the nominal value.  To plot with their error bars, use the plt.errorbars command:\n",
    "\n",
    "- `plt.errorbar(xarray,unumpy.nominal_values(u_yarray),yerr=unumpy.std_devs(u_yarray)),fmt='or',label='data')`"
   ]
  },
  {
   "cell_type": "markdown",
   "metadata": {},
   "source": [
    "# Analyzing Data\n",
    "\n",
    "Once you have your data, you need to analyze it.  Some elements are straight forward - e.g., finding the mean and standard deviation of repeated measurements.  Others require fitting a function to the data and determining the best fit parameters (e.g., the slope and intercept of a best-fit line).\n",
    "\n",
    "\n",
    "## Maximum, Average, Variance, etc.\n",
    "\n",
    "Any collection of numbers has a maximum or minimum value (useful for setting the axes on your graph),\n",
    "\n",
    "a mean:\n",
    "\n",
    "$$\\mu = \\frac{1}{N} \\sum_{i=1}^N{x_i}$$\n",
    "\n",
    "a variance:\n",
    "\n",
    "$$\\sigma^2 = \\frac{\\sum_{i=1}^N{(x_i - \\mu)^2}}{N-1}$$\n",
    "\n",
    "and standard deviation:\n",
    "\n",
    "$$\\sigma = \\sqrt{\\frac{\\sum_{i=1}^N{(x_i - \\mu)^2}}{N-1}}$$\n",
    "\n",
    "Numpy has built in functions to find various features of your array:\n",
    "- `xmax = np.max(xarray)`$\\ \\ \\ \\ \\ \\ \\ $maximum value\n",
    "- `xmin = np.min(xarray)`$\\ \\ \\ \\ \\ \\ \\ $minimum value\n",
    "- `xmed = np.median(xarray)`$\\ \\ \\ \\ \\ $median value\n",
    "- `xave = np.average(xarray)`$\\ \\ \\ $average (mean) value\n",
    "- `xvar = np.var(xarray)`$\\ \\ \\ \\ \\ \\ \\ $variance\n",
    "- `xstd = np.std(xarray)`$\\ \\ \\ \\ \\ \\ \\ $standard deviation\n",
    "\n",
    "If you have a 2D array, the above commands find these features of the entire array."
   ]
  },
  {
   "cell_type": "code",
   "execution_count": 39,
   "metadata": {},
   "outputs": [
    {
     "name": "stdout",
     "output_type": "stream",
     "text": [
      "maximum signal:   9.46\n",
      "minimum signal:   0.0\n",
      "median signal:    8.12\n",
      "average signal:   6.966842105263158\n",
      "variance:         7.471705817174513\n",
      "std deviation:    2.7334421188630484\n",
      "max of xydata:    180.0\n",
      "std dev xydata:   56.80987748976108\n"
     ]
    }
   ],
   "source": [
    "print ('maximum signal:  ', np.max(signal))\n",
    "print ('minimum signal:  ', np.min(signal))\n",
    "print ('median signal:   ', np.median(signal))\n",
    "print ('average signal:  ', np.average(signal))\n",
    "print ('variance:        ', np.var(signal))\n",
    "print ('std deviation:   ', np.std(signal))\n",
    "# note that for the 2d array it compares them all, not worrying about units\n",
    "print ('max of xydata:   ', np.max(xydata))\n",
    "print ('std dev xydata:  ', np.std(xydata))"
   ]
  },
  {
   "cell_type": "markdown",
   "metadata": {},
   "source": [
    "## Mean and Standard Deviation for multi-dimensional arrays\n",
    "\n",
    "If you want to take means and standard deviations in different directions in multi-dimensional arrays, and store the result in an array, then use:\n",
    "\n",
    "- `dataarray.mean()` ( ) or (0) averages all the columns for each row (1) averages all the rows for each column\n",
    "- `dataarray.std()`\n",
    "\n",
    "for example, we can find the average time and voltage of the signal we read in before and stored in xydata\n",
    "\n"
   ]
  },
  {
   "cell_type": "code",
   "execution_count": 40,
   "metadata": {},
   "outputs": [
    {
     "name": "stdout",
     "output_type": "stream",
     "text": [
      "means for time, signal   [90.          6.96684211]\n",
      "std dev for time, signal [54.77225575  2.73344212]\n"
     ]
    }
   ],
   "source": [
    "#operating on each column and storing the result in array\n",
    "t_v_mean=xydata.mean(1)\n",
    "t_v_std =xydata.std(1)\n",
    "print('means for time, signal  ',t_v_mean)\n",
    "print('std dev for time, signal',t_v_std)"
   ]
  },
  {
   "cell_type": "markdown",
   "metadata": {},
   "source": [
    "To get the mean of just one of the columns:\n",
    "- `dataarray[1].mean()`\n",
    "\n",
    "does effectively the same thing as\n",
    "- `np.average(dataarray[1])`"
   ]
  },
  {
   "cell_type": "code",
   "execution_count": 41,
   "metadata": {},
   "outputs": [
    {
     "name": "stdout",
     "output_type": "stream",
     "text": [
      "xydata[1].mean()      6.966842105263158\n",
      "np.average(xydata[1]) 6.966842105263158\n"
     ]
    }
   ],
   "source": [
    "# show that both syntaxes give the same result\n",
    "\n",
    "print('xydata[1].mean()     ',xydata[1].mean())\n",
    "print('np.average(xydata[1])',np.average(xydata[1]))"
   ]
  },
  {
   "cell_type": "markdown",
   "metadata": {},
   "source": [
    "## Fitting Data\n",
    "\n",
    "When you make a measurement, you generally want to extract some information from the data by fitting it to a function.  You might want to learn the slope of a curve (e.g., measure current as a function of voltage to extract a resistance), or the period of an oscillation, or the position of an observed peak in your data.\n",
    "\n",
    "Below, we outline the general process, but give a specific example of fitting a line to data.\n",
    "\n",
    "### aside: Generate some data to fit\n",
    "\n",
    "To create data to fit, we create a line\n",
    "\n",
    "- `yarray = m * xarray`\n",
    "\n",
    ", and then add an array of random noise - this generates random values between 0 and 1.\n",
    "\n",
    "- `np.random.rand(N)` where `N` is the dimension of the array (in this case `xarray.shape[0]`)\n",
    "\n",
    "We already created `position` before, so we'll use that as our xarray."
   ]
  },
  {
   "cell_type": "code",
   "execution_count": 42,
   "metadata": {
    "scrolled": true
   },
   "outputs": [
    {
     "data": {
      "text/plain": [
       "[<matplotlib.lines.Line2D at 0x7f78bc8e6d30>]"
      ]
     },
     "execution_count": 42,
     "metadata": {},
     "output_type": "execute_result"
    },
    {
     "data": {
      "image/png": "[encoded data removed]",
      "text/plain": [
       "<Figure size 432x288 with 1 Axes>"
      ]
     },
     "metadata": {
      "needs_background": "light"
     },
     "output_type": "display_data"
    }
   ],
   "source": [
    "# generate random noise in an array the same length as position\n",
    "noise = np.random.rand(position.shape[0])\n",
    "# see what it looks like\n",
    "plt.plot(position,noise)\n"
   ]
  },
  {
   "cell_type": "markdown",
   "metadata": {},
   "source": [
    "Now generate a line and add the noise to it."
   ]
  },
  {
   "cell_type": "code",
   "execution_count": 43,
   "metadata": {},
   "outputs": [
    {
     "data": {
      "text/plain": [
       "[<matplotlib.lines.Line2D at 0x7f78c09f9760>]"
      ]
     },
     "execution_count": 43,
     "metadata": {},
     "output_type": "execute_result"
    },
    {
     "data": {
      "image/png": "[encoded data removed]",
      "text/plain": [
       "<Figure size 432x288 with 1 Axes>"
      ]
     },
     "metadata": {
      "needs_background": "light"
     },
     "output_type": "display_data"
    }
   ],
   "source": [
    "# create fake data\n",
    "fakedata = 3*position + 6*(noise-0.5)\n",
    "\n",
    "# see what it looks like\n",
    "plt.plot(position,fakedata,'.')"
   ]
  },
  {
   "cell_type": "markdown",
   "metadata": {},
   "source": [
    "## Using lmfit\n",
    "\n",
    "The `lmfit` package is very convenient for fitting a known function to your data.  There are a number of built in functions, plus you can create your own (either by combining the built-in functions, or doing something new).  You can find a list of other available functions at https://lmfit.github.io/lmfit-py/builtin_models.html.\n",
    "\n",
    "### Creating Fit Model Functions\n",
    "\n",
    "To **call a built-in function**, use:\n",
    "\n",
    "- `from lmfit.models import ModelFromList` \n",
    "\n",
    "where `ModelFromList` may be one or more of the following.  The actual functions and the names of the parameters are also given below.\n",
    "\n",
    "  - `LinearModel()`\n",
    "     - $f(x;m,b)=mx+b$\n",
    "     - m is called 'slope';  b= 'intercept'\n",
    "  - `QuadraticModel()`\n",
    "     - $f(x;a,b,c)=ax^2+bx+c$\n",
    "     - parameters called 'a', 'b', 'c'\n",
    "  - `PolynomialModel(N)`\tpolynomial of order N\n",
    "     - $f(x,;c_0,c_1,c_2,…c_N)=c_0+c_1 x+c_2 x^2+⋯+c_N x^N$\n",
    "     - parameters called c0, c1, c2, … cN\n",
    "  - `LorentzianModel()`\n",
    "     - $f(x;A,μ,σ)=\\frac{A}{π} \\left[\\frac{σ}{(x-μ)^2+σ^2}\\right]$\n",
    "     - A = 'amplitude'; μ= 'center'; σ= 'sigma'\n",
    "  - `PowerLawModel()`\n",
    "     - $f(x;A,k)=Ax^k$\n",
    "     - A= 'amplitude'; k= 'exponent'\n",
    "\n",
    "Think of this as bringing in these as the equivalent of a user-defined function.  To have more than one, you would use:\n",
    "\n",
    "- `from lmfit.models import LinearModel(),LorentzianModel()`\n",
    "\n",
    "To include a **user-defined function**, import `Model` from `lmfit`\n",
    "\n",
    "- `from lmfit import Model`\n",
    "\n",
    "The next step is to create the model function to fit your data to in terms of either built-in functions (or a combination)\n",
    "\n",
    "- `model0 = LinearModel()` to fit a line to your data\n",
    "\n",
    "- `model1 = LinearModel() + LorentzianModel()` to fit a linear background under a Lorentzian peak\n",
    "\n",
    "or a user-defined function.\n",
    "\n",
    "- `model2 = Model(myfunction,param_names=['par1','par2',...],const1=val)` to fit to myfunction(x;param_names,constants)\n",
    "\n",
    "If you want to have two peaks of the same function type, you can add a prefix to the parameter names to tell them apart:\n",
    "\n",
    "- `model3 = LinearModel() + LorentzianModel(prefix = 'p1_') + LorentzianModel(prefix = 'p2_')`\n",
    "\n",
    "which will then have parameters slope, intercept, p1_amplitude, p1_center, p1_sigma, p2_amplitude, p2_center, and p2_sigma.\n",
    "\n",
    "\n",
    "### Setting Parameter Starting Values and Limits\n",
    "\n",
    "When you fit your function to your data, `lmfit` varies the parameters until the fit runs through your data, typically defined as minimizing the mean-square residual $\\sum{\\left(data_i - fit(x_i)\\right)^2}$.  \n",
    "\n",
    "It helps to set a starting value for your parameters and/or a range of values that you know will be appropriate (e.g., forcing a value to be positive).  Sometimes you also want to fix one parameter while you vary the others, either because you have measured it elsewhere, or because you want to explore the coupling between two parameters, or you want to focus on a subset of the data where that parameter doesn't have a big impact.  Sometimes, you want to do a fit multiple times, refining the which parameters are free to vary or the range of datapoints you are fitting as you go.  \n",
    "\n",
    "To set the initial values you can either estimate them yourself or, use the built-in \"guess\" function to set the initial values (guess works best for simple, built-in models).\n",
    "\n",
    "Method 1 - estimate the parameters yourself\n",
    "\n",
    "Create an object to hold the parameters of your model and their settings\n",
    "\n",
    "- `params_model1 = model1.make_params()`\n",
    "\n",
    "use `.set()` to establish initial value, limits on varying, and whether or not it is free to vary\n",
    "\n",
    "- `params_model1['par1'].set(value = val, min = lowlimit, max = highlimit, vary = True/False)`\n",
    "\n",
    "Note that if you have already done a fit that determined the parameters, you can start from those values when you run the fit again (or you can set a subset of the parameters to the most recent fit).\n",
    "\n",
    "Method 2 - use the `.guess` feature\n",
    "\n",
    "- `params_guess_model1 = model1.guess(ydata, x=xdata)`"
   ]
  },
  {
   "cell_type": "code",
   "execution_count": null,
   "metadata": {},
   "outputs": [],
   "source": []
  },
  {
   "cell_type": "markdown",
   "metadata": {},
   "source": [
    "### Example: Fit a line to x-y data set\n",
    "\n",
    "- Call in the linear model built-in function"
   ]
  },
  {
   "cell_type": "code",
   "execution_count": 44,
   "metadata": {},
   "outputs": [],
   "source": [
    "from lmfit.models import LinearModel"
   ]
  },
  {
   "cell_type": "markdown",
   "metadata": {},
   "source": [
    "- Create the model and print out its parameters"
   ]
  },
  {
   "cell_type": "code",
   "execution_count": 45,
   "metadata": {},
   "outputs": [
    {
     "data": {
      "text/html": [
       "<table><tr><th> name </th><th> value </th><th> initial value </th><th> min </th><th> max </th><th> vary </th></tr><tr><td> slope </td><td>  1.00000000 </td><td> None </td><td>        -inf </td><td>         inf </td><td> True </td></tr><tr><td> intercept </td><td>  0.00000000 </td><td> None </td><td>        -inf </td><td>         inf </td><td> True </td></tr></table>"
      ],
      "text/plain": [
       "Parameters([('slope', <Parameter 'slope', value=1.0, bounds=[-inf:inf]>),\n",
       "            ('intercept',\n",
       "             <Parameter 'intercept', value=0.0, bounds=[-inf:inf]>)])"
      ]
     },
     "execution_count": 45,
     "metadata": {},
     "output_type": "execute_result"
    }
   ],
   "source": [
    "linemodel = LinearModel()\n",
    "params_line = linemodel.make_params()\n",
    "params_line"
   ]
  },
  {
   "cell_type": "markdown",
   "metadata": {},
   "source": [
    "To set the initial values of the parameters, we can use the \"guess\" function from the data.\n",
    "\n",
    "- `params_guess = model0.guess(ydata,x=xdata)`"
   ]
  },
  {
   "cell_type": "code",
   "execution_count": 46,
   "metadata": {},
   "outputs": [
    {
     "data": {
      "text/html": [
       "<table><tr><th> name </th><th> value </th><th> initial value </th><th> min </th><th> max </th><th> vary </th></tr><tr><td> slope </td><td>  2.97054796 </td><td> None </td><td>        -inf </td><td>         inf </td><td> True </td></tr><tr><td> intercept </td><td>  0.42421806 </td><td> None </td><td>        -inf </td><td>         inf </td><td> True </td></tr></table>"
      ],
      "text/plain": [
       "Parameters([('slope',\n",
       "             <Parameter 'slope', value=2.970547964328564, bounds=[-inf:inf]>),\n",
       "            ('intercept',\n",
       "             <Parameter 'intercept', value=0.42421805726254386, bounds=[-inf:inf]>)])"
      ]
     },
     "execution_count": 46,
     "metadata": {},
     "output_type": "execute_result"
    }
   ],
   "source": [
    "params_guess = linemodel.guess(fakedata,x=position)\n",
    "params_guess"
   ]
  },
  {
   "cell_type": "markdown",
   "metadata": {},
   "source": [
    "Alternatively, we can estimate the slope and intercept from the raw data by looking at the graph, or by extracting from the data the value at x = 0 (intercept) and the ratio of the y-range to the x-range (slope).  For this we use the numpy functions for finding the maximum and minimum of an array\n",
    "\n",
    "  - `np.max(yarray)`\n",
    "  - `np.min(yarray)`"
   ]
  },
  {
   "cell_type": "code",
   "execution_count": 47,
   "metadata": {},
   "outputs": [
    {
     "name": "stdout",
     "output_type": "stream",
     "text": [
      "intercept guess at x = 0: -1.5\n",
      "slope guess: 3.0\n"
     ]
    }
   ],
   "source": [
    "# print value of data at zero\n",
    "print(f'intercept guess at x = 0: {fakedata[0]:0.1f}')\n",
    "\n",
    "# print range of y over range of x\n",
    "yrange = np.max(fakedata)-np.min(fakedata)\n",
    "xrange = np.max(position)-np.min(position)\n",
    "print('slope guess: {0:0.1f}'.format(yrange/xrange))"
   ]
  },
  {
   "cell_type": "markdown",
   "metadata": {},
   "source": [
    "We can also just choose values by looking at the data or adding our personal knowledge of the system.  For example, if I know I am plotting voltage and current, I fully expect the intercept to be zero.  I thus fix it at zero.\n",
    "\n",
    "- Set the initial values, potential ranges for them to vary, and whether or not they will vary"
   ]
  },
  {
   "cell_type": "code",
   "execution_count": 48,
   "metadata": {},
   "outputs": [
    {
     "data": {
      "text/html": [
       "<table><tr><th> name </th><th> value </th><th> initial value </th><th> min </th><th> max </th><th> vary </th></tr><tr><td> slope </td><td>  2.90000000 </td><td> None </td><td>  0.00000000 </td><td>  30.0000000 </td><td> True </td></tr><tr><td> intercept </td><td>  0.00000000 </td><td> None </td><td>        -inf </td><td>         inf </td><td> False </td></tr></table>"
      ],
      "text/plain": [
       "Parameters([('slope', <Parameter 'slope', value=2.9, bounds=[0:30]>),\n",
       "            ('intercept',\n",
       "             <Parameter 'intercept', value=0.0 (fixed), bounds=[-inf:inf]>)])"
      ]
     },
     "execution_count": 48,
     "metadata": {},
     "output_type": "execute_result"
    }
   ],
   "source": [
    "# set initial slope to try, and force intercept to be zero  I chose something other than 3 to see how it changes\n",
    "params_line['slope'].set(value = 2.9, min = 0, max = 30, vary = True)\n",
    "params_line['intercept'].set(value = 0., vary = False)\n",
    "params_line"
   ]
  },
  {
   "cell_type": "markdown",
   "metadata": {},
   "source": [
    "- fit the data to the model using these starting parameters and store the result\n",
    "  - `data_fit = model1.fit(ydata, x=xdata, weights = 1/error)`\n",
    "  \n",
    "If the `weights` is missing, then all are equally weighted.\n",
    "\n",
    "Print out the fitting results with \n",
    "  - `data_fit.fit_report()`\n",
    " \n",
    "which gives information on how good the fit is and the conditions of the fit.\n",
    " "
   ]
  },
  {
   "cell_type": "code",
   "execution_count": 49,
   "metadata": {},
   "outputs": [
    {
     "name": "stdout",
     "output_type": "stream",
     "text": [
      "[[Model]]\n",
      "    Model(linear)\n",
      "[[Fit Statistics]]\n",
      "    # fitting method   = leastsq\n",
      "    # function evals   = 7\n",
      "    # data points      = 51\n",
      "    # variables        = 1\n",
      "    chi-square         = 138.428265\n",
      "    reduced chi-square = 2.76856530\n",
      "    Akaike info crit   = 52.9248575\n",
      "    Bayesian info crit = 54.8566831\n",
      "[[Variables]]\n",
      "    slope:      2.98314850 +/- 0.00803105 (0.27%) (init = 2.9)\n",
      "    intercept:  0 (fixed)\n"
     ]
    }
   ],
   "source": [
    "data_fit = linemodel.fit(fakedata,params_line,x=position)\n",
    "print(data_fit.fit_report())"
   ]
  },
  {
   "cell_type": "markdown",
   "metadata": {},
   "source": [
    "- **Plot the data, fit and residuals** an unformatted way.  Note that data_fit not only has the fitting details in it (extracted with `.fit_report()`), it also contains the difference between the fit and data (residuals) which gets plotted with the default plot command.\n",
    "  - `data_fit.plot()`"
   ]
  },
  {
   "cell_type": "code",
   "execution_count": 50,
   "metadata": {},
   "outputs": [
    {
     "data": {
      "text/plain": [
       "(<Figure size 432x432 with 2 Axes>, GridSpec(2, 1, height_ratios=[1, 4]))"
      ]
     },
     "execution_count": 50,
     "metadata": {},
     "output_type": "execute_result"
    },
    {
     "data": {
      "image/png": "[encoded data removed]",
      "text/plain": [
       "<Figure size 432x432 with 2 Axes>"
      ]
     },
     "metadata": {
      "needs_background": "light"
     },
     "output_type": "display_data"
    }
   ],
   "source": [
    "# quick plot of the data\n",
    "data_fit.plot()"
   ]
  },
  {
   "cell_type": "markdown",
   "metadata": {},
   "source": [
    "- you can **change the graph size** and other features by creating a name for a plot and giving that plot features.\n",
    "\n",
    "  - `myfig = plt.figure(figsize = (N,M))` \n",
    "  - `data_fit.plot(fig = myfig)`"
   ]
  },
  {
   "cell_type": "code",
   "execution_count": 51,
   "metadata": {
    "scrolled": true
   },
   "outputs": [
    {
     "data": {
      "text/plain": [
       "(<Figure size 720x720 with 2 Axes>, GridSpec(2, 1, height_ratios=[1, 4]))"
      ]
     },
     "execution_count": 51,
     "metadata": {},
     "output_type": "execute_result"
    },
    {
     "data": {
      "image/png": "[encoded data removed]",
      "text/plain": [
       "<Figure size 720x720 with 2 Axes>"
      ]
     },
     "metadata": {
      "needs_background": "light"
     },
     "output_type": "display_data"
    }
   ],
   "source": [
    "# formatted figure\n",
    "linefig = plt.figure(figsize = (10,10))\n",
    "data_fit.plot(fig = linefig)"
   ]
  },
  {
   "cell_type": "markdown",
   "metadata": {},
   "source": [
    "\n",
    "- To **extract the fitted parameters** stored in the fit object `data_fit` into a dataframe, use `.params`\n",
    "\n",
    " - `params_fitted = data_fit.params`"
   ]
  },
  {
   "cell_type": "code",
   "execution_count": 52,
   "metadata": {},
   "outputs": [
    {
     "data": {
      "text/html": [
       "<table><tr><th> name </th><th> value </th><th> standard error </th><th> relative error </th><th> initial value </th><th> min </th><th> max </th><th> vary </th></tr><tr><td> slope </td><td>  2.98314850 </td><td>  0.00803105 </td><td> (0.27%) </td><td> 2.9 </td><td>  0.00000000 </td><td>  30.0000000 </td><td> True </td></tr><tr><td> intercept </td><td>  0.00000000 </td><td>  0.00000000 </td><td>  </td><td> 0.0 </td><td>        -inf </td><td>         inf </td><td> False </td></tr></table>"
      ],
      "text/plain": [
       "Parameters([('slope',\n",
       "             <Parameter 'slope', value=2.9831485006982628 +/- 0.00803, bounds=[0:30]>),\n",
       "            ('intercept',\n",
       "             <Parameter 'intercept', value=0.0 (fixed), bounds=[-inf:inf]>)])"
      ]
     },
     "execution_count": 52,
     "metadata": {},
     "output_type": "execute_result"
    }
   ],
   "source": [
    "# store the fitted results\n",
    "params_fitted = data_fit.params\n",
    "params_fitted"
   ]
  },
  {
   "cell_type": "markdown",
   "metadata": {},
   "source": [
    "Note that the new object now lists the relative error and starting values.\n",
    "\n",
    "The original parameters are unchanged, and still in the old object.  If you run the cell again, you will again start from these."
   ]
  },
  {
   "cell_type": "code",
   "execution_count": 53,
   "metadata": {},
   "outputs": [
    {
     "data": {
      "text/html": [
       "<table><tr><th> name </th><th> value </th><th> initial value </th><th> min </th><th> max </th><th> vary </th></tr><tr><td> slope </td><td>  2.90000000 </td><td> None </td><td>  0.00000000 </td><td>  30.0000000 </td><td> True </td></tr><tr><td> intercept </td><td>  0.00000000 </td><td> None </td><td>        -inf </td><td>         inf </td><td> False </td></tr></table>"
      ],
      "text/plain": [
       "Parameters([('slope', <Parameter 'slope', value=2.9, bounds=[0:30]>),\n",
       "            ('intercept',\n",
       "             <Parameter 'intercept', value=0.0 (fixed), bounds=[-inf:inf]>)])"
      ]
     },
     "execution_count": 53,
     "metadata": {},
     "output_type": "execute_result"
    }
   ],
   "source": [
    "params_line"
   ]
  },
  {
   "cell_type": "markdown",
   "metadata": {},
   "source": [
    "- **Save the results to an uncertainty object** that can be used in later calculations\n",
    "  - `u_slope = unc.ufloat(params_fitted['slope'].value,params_fitted['slope'].stderr)`\n",
    "  - `u_int = unc.ufloat(params_fitted['intercept'].value,params_fitted['intercept'].stderr)`"
   ]
  },
  {
   "cell_type": "code",
   "execution_count": 54,
   "metadata": {},
   "outputs": [
    {
     "name": "stdout",
     "output_type": "stream",
     "text": [
      " slope: 2.983±0.008   intercept: 0.0±0\n"
     ]
    }
   ],
   "source": [
    "u_slope = unc.ufloat(params_fitted['slope'].value,params_fitted['slope'].stderr)\n",
    "u_int = unc.ufloat(params_fitted['intercept'].value,params_fitted['intercept'].stderr)\n",
    "print(f' slope: {u_slope:0.1uP}   intercept: {u_int:0.2uP}')"
   ]
  },
  {
   "cell_type": "markdown",
   "metadata": {},
   "source": [
    "Note the slope is about 2 sigma from what we created the fake data with.\n",
    "\n",
    "Let us now re-do the fit with the intercept is free to vary.\n",
    "\n",
    "Start by setting the parameters to those from the previous fit:\n",
    "\n",
    "- `params_line = params_fitted`\n",
    "\n",
    "and relax the condition on the intercept being fixed in one of two ways:\n",
    "\n",
    "- `params_line['intercept'].set(vary = True)`\n",
    "\n",
    "or\n",
    "\n",
    "- `params_line['intercept'].vary = ['True']`"
   ]
  },
  {
   "cell_type": "code",
   "execution_count": 55,
   "metadata": {},
   "outputs": [
    {
     "data": {
      "text/html": [
       "<table><tr><th> name </th><th> value </th><th> standard error </th><th> relative error </th><th> initial value </th><th> min </th><th> max </th><th> vary </th></tr><tr><td> slope </td><td>  2.97054799 </td><td>  0.01585239 </td><td> (0.53%) </td><td> 2.9831485006982628 </td><td>  0.00000000 </td><td>  30.0000000 </td><td> True </td></tr><tr><td> intercept </td><td>  0.42421728 </td><td>  0.45990200 </td><td> (108.41%) </td><td> 0.0 </td><td>        -inf </td><td>         inf </td><td> True </td></tr></table>"
      ],
      "text/plain": [
       "Parameters([('slope',\n",
       "             <Parameter 'slope', value=2.970547987534119 +/- 0.0159, bounds=[0:30]>),\n",
       "            ('intercept',\n",
       "             <Parameter 'intercept', value=0.42421727675728765 +/- 0.46, bounds=[-inf:inf]>)])"
      ]
     },
     "execution_count": 55,
     "metadata": {},
     "output_type": "execute_result"
    }
   ],
   "source": [
    "# starting from the previous fit, relax the constraint on the intercept\n",
    "params_line = params_fitted\n",
    "params_line['intercept'].set(vary = True)\n",
    "\n",
    "# fit the data again, print the parameter values\n",
    "data_fit2 = linemodel.fit(fakedata,params_line,x=position)\n",
    "params_fitted2 = data_fit2.params\n",
    "params_fitted2"
   ]
  },
  {
   "cell_type": "code",
   "execution_count": 56,
   "metadata": {
    "tags": []
   },
   "outputs": [
    {
     "name": "stdout",
     "output_type": "stream",
     "text": [
      " slope: 2.97±0.02   intercept: 0.4±0.5\n"
     ]
    }
   ],
   "source": [
    "# print with proper format\n",
    "u_slope2 = unc.ufloat(params_fitted2['slope'].value,params_fitted2['slope'].stderr)\n",
    "u_int2 = unc.ufloat(params_fitted2['intercept'].value,params_fitted2['intercept'].stderr)\n",
    "print(f' slope: {u_slope2:0.1uP}   intercept: {u_int2:0.1uP}')"
   ]
  },
  {
   "cell_type": "markdown",
   "metadata": {},
   "source": [
    "The intercept is within one sigma of zero, and the slope is now under 2 sigma from 3.0.\n",
    "\n",
    "Check out the new fit by printing its fit report and doing a quick plot"
   ]
  },
  {
   "cell_type": "code",
   "execution_count": 57,
   "metadata": {
    "scrolled": true
   },
   "outputs": [
    {
     "name": "stdout",
     "output_type": "stream",
     "text": [
      "[[Model]]\n",
      "    Model(linear)\n",
      "[[Fit Statistics]]\n",
      "    # fitting method   = leastsq\n",
      "    # function evals   = 7\n",
      "    # data points      = 51\n",
      "    # variables        = 2\n",
      "    chi-square         = 136.065609\n",
      "    reduced chi-square = 2.77684917\n",
      "    Akaike info crit   = 54.0468895\n",
      "    Bayesian info crit = 57.9105407\n",
      "[[Variables]]\n",
      "    slope:      2.97054799 +/- 0.01585239 (0.53%) (init = 2.983149)\n",
      "    intercept:  0.42421728 +/- 0.45990200 (108.41%) (init = 0)\n",
      "[[Correlations]] (unreported correlations are < 0.100)\n",
      "    C(slope, intercept) = -0.862\n"
     ]
    },
    {
     "data": {
      "text/plain": [
       "(<Figure size 720x720 with 2 Axes>, GridSpec(2, 1, height_ratios=[1, 4]))"
      ]
     },
     "execution_count": 57,
     "metadata": {},
     "output_type": "execute_result"
    },
    {
     "data": {
      "image/png": "[encoded data removed]",
      "text/plain": [
       "<Figure size 720x720 with 2 Axes>"
      ]
     },
     "metadata": {
      "needs_background": "light"
     },
     "output_type": "display_data"
    }
   ],
   "source": [
    "# plot the new fit\n",
    "linefig = plt.figure(figsize = (10,10))\n",
    "print(data_fit2.fit_report())\n",
    "data_fit2.plot(fig=linefig)"
   ]
  },
  {
   "cell_type": "markdown",
   "metadata": {},
   "source": [
    "# Formatted Printing\n",
    "\n",
    "When printing data or fitted parameters, it is important to control the number of significant figures.  It is also nice to control column alignment and add text to label the output.\n",
    "\n",
    "In the print command with formatted text, include the text, and then where you want a formatted variable, put the format in curly brackets.  The generic format is:\n",
    "\n",
    "- `print('text {0:N.Mz} more text {1:N.Mz}'.format(x1,x2)`\n",
    "\n",
    "where `x1` and `x2` are the variables to be printed.  In curly brackets, the format is `{P:N.Mz}`, where `P` tells you which variable in the list that is in parenthesis as the object of .format( ) should go where the { } brackets are; `N` is the minimum number of spaces before the next item in the text line (if N=0, the length is whetever the number needs), use `<N` to left justify or `>N` to right justify (the default);  `M` is the number of digits to the right of the decimal point; and `z` is a letter (or two) choosing the type of format, of which common ones are floating point `f`, exponent `E`, or uncertainty `u`.  Adding `P` to E or u makes it \"prettier\" for an uncertainty object - printing as $10^n$ and $\\pm$ instead of `E+0n` and +/-.\n",
    "\n",
    "\n",
    "Common formats for printing variables:\n",
    "\n",
    "- `N.Mf` floating point, right justified N spaces from the start, M digits after decimal point \n",
    "- `<N.Mf` as above, but left justified, with the next thing starting at least N spaces over.\n",
    "- `N.ME` in exponential form with `E+0n`, with M digits after the decimal point\n",
    "- `N.Mu` for an object with uncertainty to print with M total digits in the uncertainty, and the actual object out to that level.\n",
    "- for uncertainty objects, the f and E formats truncate the digits after the decimal point, and not taking uncertainty into account.  You can also add `P` after the format to make it print with $\\times 10^n$ and $\\pm$ instead of the E+0n and +/- format.\n",
    "\n",
    "\n",
    "Below are examples of printing out x1 = 543.21, x2 = 0.1234, and u1 = 12.345 $\\pm$ 0.037 with different values of x, and using f, E and u.\n",
    "\n"
   ]
  },
  {
   "cell_type": "code",
   "execution_count": 58,
   "metadata": {},
   "outputs": [
    {
     "name": "stdout",
     "output_type": "stream",
     "text": [
      "no format command. x1: 543.21  x2: 0.1234   u1: 12.35+/-0.04\n",
      "all without explicit formatting x1: 543.21   x2: 0.1234 u1: 12.35+/-0.04\n",
      "all with 8.1f x1:    543.2   x2:     0.12 u1:     12.3+/-     0.0\n",
      "all with 8.2f x1:   543.21   x2:     0.12 u1:    12.35+/-    0.04\n",
      "all with 10.1E x1:    5.4E+02   x2:    1.2E-01 u1:    1.2E+01+/-   0.0E+01\n",
      "uncertainty with  10.1u      12.35+/-      0.04  with 0.2u:     12.345+/-     0.037\n",
      "uncertainty with 10.1uP      12.35±      0.04   with 0.2uP:     12.345±     0.037\n",
      "uncertainty with 10.2fP      12.35±      0.04   with 0.2fP:      12.35±      0.04\n",
      "uncertainty with 10.2EP   1.23×10¹±  0.00×10¹   with 0.2EP:   1.23×10¹±  0.00×10¹\n"
     ]
    }
   ],
   "source": [
    "# assorted examples of printing formats\n",
    "x1=543.21\n",
    "x2=0.1234\n",
    "u1=unc.ufloat(12.345,0.037)\n",
    "print('no format command. x1:',x1,' x2:', x2, '  u1:', u1)\n",
    "print('all without explicit formatting x1: {0}   x2: {1} u1: {2}'.format(x1,x2,u1))\n",
    "print('all with 8.1f x1: {0:8.1f}   x2: {1:8.2f} u1: {2:8.1f}'.format(x1,x2,u1))\n",
    "print('all with 8.2f x1: {0:8.2f}   x2: {1:8.2f} u1: {2:8.2f}'.format(x1,x2,u1))\n",
    "print('all with 10.1E x1: {0:10.1E}   x2: {1:10.1E} u1: {2:10.1E}'.format(x1,x2,u1))\n",
    "print('uncertainty with  10.1u {0:10.1u}  with 0.2u: {1:10.2u}'.format(u1,u1))\n",
    "print('uncertainty with 10.1uP {0:10.1uP}   with 0.2uP: {1:10.2uP}'.format(u1,u1))\n",
    "print('uncertainty with 10.2fP {0:10.2fP}   with 0.2fP: {1:10.2fP}'.format(u1,u1))\n",
    "print('uncertainty with 10.2EP {0:10.2EP}   with 0.2EP: {1:10.2EP}'.format(u1,u1))"
   ]
  },
  {
   "cell_type": "markdown",
   "metadata": {},
   "source": [
    "You can do this with fewer characters in Python3: instead of `'text'.format`, you can use `f'text'`\n",
    "\n",
    "- `print('text {0:N.Mz} more text {1:N.Mz}'.format(x1,x2)`\n",
    "\n",
    "is the same as\n",
    "- `print(f'text {x1:N.Mz} more text {x2:N.Mz}')`"
   ]
  },
  {
   "cell_type": "code",
   "execution_count": 59,
   "metadata": {},
   "outputs": [
    {
     "name": "stdout",
     "output_type": "stream",
     "text": [
      "with >10.1      543.2 x\n",
      "with >10.1 543.2      x\n",
      "with  10.2     543.21 x\n"
     ]
    }
   ],
   "source": [
    "print(f'with >10.1 {x1:>10.1f} x')\n",
    "print(f'with >10.1 {x1:<10.1f} x')\n",
    "print(f'with  10.2 {x1:10.2f} x')"
   ]
  },
  {
   "cell_type": "markdown",
   "metadata": {},
   "source": [
    "To get things lined up, you can use the formatting {:'>N'} to right align at the Nth space, or {:'<N'} for left alignment with that many spaces left before the next item prints."
   ]
  },
  {
   "cell_type": "code",
   "execution_count": 60,
   "metadata": {},
   "outputs": [
    {
     "name": "stdout",
     "output_type": "stream",
     "text": [
      "default  x1: 543.21 x2: 0.1234 u1: 12.35+/-0.04\n",
      "0.2f     x1: 543.21 x2: 0.12 u1: 12.35+/-0.04\n",
      "0.2f     x1: 543.21 x2: 0.12 u1: 12.35±0.04\n",
      ">10.2f   x1:     543.21 x2:       0.12 u1:      12.35±      0.04\n",
      "<10.2f   x1: 543.21     x2: 0.12       u1: 12.35     ±0.04      \n"
     ]
    }
   ],
   "source": [
    "print(f'default  x1: {x1} x2: {x2} u1: {u1}')\n",
    "print(f'0.2f     x1: {x1:0.2f} x2: {x2:0.2f} u1: {u1:0.2f}')\n",
    "print(f'0.2f     x1: {x1:0.2f} x2: {x2:0.2f} u1: {u1:0.2fP}')\n",
    "print(f'>10.2f   x1: {x1:>10.2f} x2: {x2:>10.2f} u1: {u1:>10.2fP}')\n",
    "print(f'<10.2f   x1: {x1:<10.2f} x2: {x2:<10.2f} u1: {u1:<10.2fP}')"
   ]
  },
  {
   "cell_type": "markdown",
   "metadata": {},
   "source": [
    "# Example from Start to Finish\n",
    "\n",
    "This example will start from a file with three measurements of the voltage across a slowly charging capacitor, create an uncertainty object that summarizes that dataset, and then fit the data to a user-defined function for exponential saturation, $V(t) = V_o \\left(1-e^{t/\\tau}\\right)$\n",
    "\n",
    "This is a template for using the code elements described above in this document."
   ]
  },
  {
   "cell_type": "markdown",
   "metadata": {},
   "source": [
    "## Load the data"
   ]
  },
  {
   "cell_type": "code",
   "execution_count": 61,
   "metadata": {},
   "outputs": [
    {
     "name": "stdout",
     "output_type": "stream",
     "text": [
      "'Lab Commands.ipynb'   minute2.csv   testdata.csv   threetrial.csv\n"
     ]
    }
   ],
   "source": [
    "#find the file (see command line [3])\n",
    "%ls"
   ]
  },
  {
   "cell_type": "code",
   "execution_count": 62,
   "metadata": {},
   "outputs": [
    {
     "data": {
      "text/html": [
       "<div>\n",
       "<style scoped>\n",
       "    .dataframe tbody tr th:only-of-type {\n",
       "        vertical-align: middle;\n",
       "    }\n",
       "\n",
       "    .dataframe tbody tr th {\n",
       "        vertical-align: top;\n",
       "    }\n",
       "\n",
       "    .dataframe thead th {\n",
       "        text-align: right;\n",
       "    }\n",
       "</style>\n",
       "<table border=\"1\" class=\"dataframe\">\n",
       "  <thead>\n",
       "    <tr style=\"text-align: right;\">\n",
       "      <th></th>\n",
       "      <th>Time</th>\n",
       "      <th>Run1</th>\n",
       "      <th>Run2</th>\n",
       "      <th>Run3</th>\n",
       "    </tr>\n",
       "  </thead>\n",
       "  <tbody>\n",
       "    <tr>\n",
       "      <th>16</th>\n",
       "      <td>160</td>\n",
       "      <td>9.49</td>\n",
       "      <td>9.65</td>\n",
       "      <td>9.38</td>\n",
       "    </tr>\n",
       "    <tr>\n",
       "      <th>17</th>\n",
       "      <td>170</td>\n",
       "      <td>9.47</td>\n",
       "      <td>9.44</td>\n",
       "      <td>9.64</td>\n",
       "    </tr>\n",
       "    <tr>\n",
       "      <th>18</th>\n",
       "      <td>180</td>\n",
       "      <td>9.71</td>\n",
       "      <td>9.61</td>\n",
       "      <td>9.59</td>\n",
       "    </tr>\n",
       "  </tbody>\n",
       "</table>\n",
       "</div>"
      ],
      "text/plain": [
       "    Time  Run1  Run2  Run3\n",
       "16   160  9.49  9.65  9.38\n",
       "17   170  9.47  9.44  9.64\n",
       "18   180  9.71  9.61  9.59"
      ]
     },
     "execution_count": 62,
     "metadata": {},
     "output_type": "execute_result"
    }
   ],
   "source": [
    "# read in the file (see command line [5])\n",
    "trials=pd.read_csv('threetrial.csv')\n",
    "trials.tail(3)"
   ]
  },
  {
   "cell_type": "markdown",
   "metadata": {},
   "source": [
    "## Plot the data\n",
    "Make a plot to see what the data look like."
   ]
  },
  {
   "cell_type": "code",
   "execution_count": 63,
   "metadata": {},
   "outputs": [
    {
     "data": {
      "image/png": "[encoded data removed]",
      "text/plain": [
       "<Figure size 576x432 with 1 Axes>"
      ]
     },
     "metadata": {
      "needs_background": "light"
     },
     "output_type": "display_data"
    }
   ],
   "source": [
    "# plot it (see command line 25)\n",
    "# generate figure with grid, title and axis labels\n",
    "plt.figure(figsize=(8,6))\n",
    "plt.grid()\n",
    "plt.title('Saturation trials')\n",
    "plt.ylabel('Signal (V)')\n",
    "plt.xlabel('Time (s)')\n",
    "\n",
    "# add the data\n",
    "\n",
    "plt.plot(trials['Time'],trials['Run1'],'ob',label='Run 1')    # raw data\n",
    "plt.plot(trials['Time'],trials['Run2'],'^r',label='Run 2')    # raw data\n",
    "plt.plot(trials['Time'],trials['Run3'],'sg',label='Run 3')    # raw data\n",
    "\n",
    "# set axis limits\n",
    "plt.xlim(0,200)\n",
    "plt.ylim(0,10)\n",
    "\n",
    "# print legend\n",
    "plt.legend();"
   ]
  },
  {
   "cell_type": "markdown",
   "metadata": {},
   "source": [
    "## Process the data\n",
    "Put the data into arrays"
   ]
  },
  {
   "cell_type": "code",
   "execution_count": 64,
   "metadata": {},
   "outputs": [
    {
     "data": {
      "text/plain": [
       "array([[ 0.11,  2.08,  3.54,  4.63,  5.62,  6.5 ,  7.21,  7.76,  8.02,\n",
       "         8.52,  8.76,  9.01,  9.14,  9.31,  9.29,  9.49,  9.49,  9.47,\n",
       "         9.71],\n",
       "       [ 0.14,  1.99,  3.6 ,  4.84,  5.91,  6.61,  7.31,  7.6 ,  8.09,\n",
       "         8.41,  8.63,  8.86,  9.25,  9.24,  9.33,  9.59,  9.65,  9.44,\n",
       "         9.61],\n",
       "       [-0.06,  1.96,  3.62,  4.7 ,  5.68,  6.65,  7.28,  7.69,  8.11,\n",
       "         8.52,  8.66,  8.88,  9.13,  9.2 ,  9.41,  9.57,  9.38,  9.64,\n",
       "         9.59]])"
      ]
     },
     "execution_count": 64,
     "metadata": {},
     "output_type": "execute_result"
    }
   ],
   "source": [
    "# put time into its own array, and then the measurements into a 3 column array (see command lines 15, 18)\n",
    "time=trials['Time']\n",
    "measurements=np.array([trials['Run1'],trials['Run2'],trials['Run3']])\n",
    "measurements"
   ]
  },
  {
   "cell_type": "markdown",
   "metadata": {},
   "source": [
    "Find the average values and estimate the error by taking the standard deviation for each measurement."
   ]
  },
  {
   "cell_type": "code",
   "execution_count": 65,
   "metadata": {},
   "outputs": [
    {
     "name": "stdout",
     "output_type": "stream",
     "text": [
      "time (s)   10.0    value (V)   2.01      sigma    0.05\n",
      "time (s)   20.0    value (V)   3.59      sigma    0.03\n"
     ]
    }
   ],
   "source": [
    "# average across the three columns to figure out the mean and standard deviation  (see command line 40)\n",
    "# store the mean and error bars in individual objects\n",
    "\n",
    "V_mean=measurements.mean(0)\n",
    "V_sigma=measurements.std(0)\n",
    "\n",
    "# use a for loop (command line 17) and formatted printing (line 58) to check that this worked\n",
    "\n",
    "for x in range(1,3):\n",
    "    print ('time (s)   {0:0.1f}    value (V)   {1:0.2f}      sigma    {2:0.2f}'.\n",
    "           format(trials['Time'][x],V_mean[x],V_sigma[x]))\n"
   ]
  },
  {
   "cell_type": "markdown",
   "metadata": {},
   "source": [
    "Put the results into an uncertainty object array"
   ]
  },
  {
   "cell_type": "code",
   "execution_count": 66,
   "metadata": {},
   "outputs": [
    {
     "name": "stdout",
     "output_type": "stream",
     "text": [
      "time (s)   10.0    value (V)   2.01+/-0.05\n",
      "time (s)   20.0    value (V)   3.59+/-0.03\n"
     ]
    }
   ],
   "source": [
    "# create a single uncertainty object with the mean and standard deviation for each time point (command line 38)\n",
    "u_Volts = unumpy.uarray(V_mean,V_sigma)\n",
    "\n",
    "# print in a formatted way (line 58)\n",
    "for x in range(1,3):\n",
    "    print ('time (s)   {0:0.1f}    value (V)   {1:0.1u}'.\n",
    "           format(trials['Time'][x],u_Volts[x]))"
   ]
  },
  {
   "cell_type": "markdown",
   "metadata": {},
   "source": [
    "Plot the average, with error bars"
   ]
  },
  {
   "cell_type": "code",
   "execution_count": 67,
   "metadata": {
    "scrolled": true
   },
   "outputs": [
    {
     "data": {
      "image/png": "[encoded data removed]",
      "text/plain": [
       "<Figure size 576x432 with 1 Axes>"
      ]
     },
     "metadata": {
      "needs_background": "light"
     },
     "output_type": "display_data"
    }
   ],
   "source": [
    "# plot orig data as dots, plus mean with error bars (from command 26)\n",
    "# generate figure with grid, title and axis labels\n",
    "plt.figure(figsize=(8,6))\n",
    "plt.grid()\n",
    "plt.title('Saturation trials')\n",
    "plt.ylabel('Signal (V)')\n",
    "plt.xlabel('Time (s)')\n",
    "\n",
    "# add the data\n",
    "\n",
    "plt.plot(trials['Time'],trials['Run1'],'.b',label='Run 1')    # raw data\n",
    "plt.plot(trials['Time'],trials['Run2'],'.b',label='Run 2')    # raw data\n",
    "plt.plot(trials['Time'],trials['Run3'],'.b',label='Run 3')    # raw data\n",
    "plt.errorbar(trials['Time'],V_mean,yerr=V_sigma,fmt='-r',label='mean')\n",
    "\n",
    "# set axis limits\n",
    "plt.xlim(0,200)\n",
    "plt.ylim(0,10)\n",
    "\n",
    "# print legend\n",
    "plt.legend();"
   ]
  },
  {
   "cell_type": "markdown",
   "metadata": {},
   "source": [
    "Define the fitting function for $V = V_o \\left(1-e^{-t/\\tau}\\right)$ to find the parameters $V_o$ and $\\tau$"
   ]
  },
  {
   "cell_type": "code",
   "execution_count": 68,
   "metadata": {},
   "outputs": [],
   "source": [
    "# create a user-defined function (command line 32)\n",
    "def vsat(t,V_o,tau):\n",
    "    result = V_o * (1 - np.exp(-t/tau))    # note use np.exp() for exponential, since will be using on a np.array\n",
    "    return result"
   ]
  },
  {
   "cell_type": "code",
   "execution_count": 69,
   "metadata": {},
   "outputs": [
    {
     "name": "stdout",
     "output_type": "stream",
     "text": [
      "6.321205588285577\n"
     ]
    }
   ],
   "source": [
    "# check that it works - 63% at one time constant\n",
    "print(vsat(40,10,40))"
   ]
  },
  {
   "cell_type": "markdown",
   "metadata": {},
   "source": [
    "## Fit the data\n",
    "\n",
    "First set up the model and the parameter initial values.  From the graph, it is saturating at a level a little under 10 V, and the 63% point is around 50 seconds.  Use those as the starting values of the function parameters."
   ]
  },
  {
   "cell_type": "code",
   "execution_count": 70,
   "metadata": {},
   "outputs": [
    {
     "data": {
      "text/html": [
       "<table><tr><th> name </th><th> value </th><th> initial value </th><th> min </th><th> max </th><th> vary </th></tr><tr><td> V_o </td><td>  10.0000000 </td><td> None </td><td>  0.00000000 </td><td>  20.0000000 </td><td> True </td></tr><tr><td> tau </td><td>  50.0000000 </td><td> None </td><td>  0.00000000 </td><td>  100.000000 </td><td> True </td></tr></table>"
      ],
      "text/plain": [
       "Parameters([('V_o', <Parameter 'V_o', value=10, bounds=[0:20]>),\n",
       "            ('tau', <Parameter 'tau', value=50, bounds=[0.0:100]>)])"
      ]
     },
     "execution_count": 70,
     "metadata": {},
     "output_type": "execute_result"
    }
   ],
   "source": [
    "# bring in the class \"Model\" for fitting to a user-defined function (command line 44)\n",
    "from lmfit import Model\n",
    "\n",
    "# create the model and its parameter settings \n",
    "mymodel1=Model(vsat,param_names=['V_o','tau'])  #define the model function & parameters (line 45)\n",
    "myparams=mymodel1.make_params()   #make a dataframe of the fitting parameters (line 45)\n",
    "myparams['V_o'].set(value=10,min=0,max=20,vary=True)      #force to be positive (line 48)\n",
    "myparams['tau'].set(value=50,min=0.0,max=100,vary=True)   #starting values from plot\n",
    "myparams"
   ]
  },
  {
   "cell_type": "markdown",
   "metadata": {},
   "source": [
    "Fit the data, and do the lmfit built in print out of parameters and quick plot to check fit quality."
   ]
  },
  {
   "cell_type": "code",
   "execution_count": 71,
   "metadata": {},
   "outputs": [
    {
     "name": "stdout",
     "output_type": "stream",
     "text": [
      "[[Model]]\n",
      "    Model(vsat)\n",
      "[[Fit Statistics]]\n",
      "    # fitting method   = leastsq\n",
      "    # function evals   = 13\n",
      "    # data points      = 19\n",
      "    # variables        = 2\n",
      "    chi-square         = 19.4183163\n",
      "    reduced chi-square = 1.14225390\n",
      "    Akaike info crit   = 4.41377779\n",
      "    Bayesian info crit = 6.30265574\n",
      "[[Variables]]\n",
      "    V_o:  9.79457710 +/- 0.03071219 (0.31%) (init = 10)\n",
      "    tau:  44.7609480 +/- 0.45237054 (1.01%) (init = 50)\n",
      "[[Correlations]] (unreported correlations are < 0.100)\n",
      "    C(V_o, tau) =  0.839\n"
     ]
    },
    {
     "data": {
      "text/plain": [
       "(<Figure size 432x432 with 2 Axes>, GridSpec(2, 1, height_ratios=[1, 4]))"
      ]
     },
     "execution_count": 71,
     "metadata": {},
     "output_type": "execute_result"
    },
    {
     "data": {
      "image/png": "[encoded data removed]",
      "text/plain": [
       "<Figure size 432x432 with 2 Axes>"
      ]
     },
     "metadata": {
      "needs_background": "light"
     },
     "output_type": "display_data"
    }
   ],
   "source": [
    "# Fit the data (command line 49)\n",
    "v_fit = mymodel1.fit(V_mean,myparams,t=time,weights=1/V_sigma)   #weight by 1/error bars\n",
    "\n",
    "# print report (command line 49)\n",
    "print(v_fit.fit_report())\n",
    "\n",
    "#quick plot (command line 50)\n",
    "v_fit.plot()"
   ]
  },
  {
   "cell_type": "markdown",
   "metadata": {},
   "source": [
    "## Extract the Results\n",
    "Extract the parameters into uncertainty objects and print nicely."
   ]
  },
  {
   "cell_type": "code",
   "execution_count": 72,
   "metadata": {},
   "outputs": [
    {
     "data": {
      "text/html": [
       "<table><tr><th> name </th><th> value </th><th> standard error </th><th> relative error </th><th> initial value </th><th> min </th><th> max </th><th> vary </th></tr><tr><td> V_o </td><td>  9.79457710 </td><td>  0.03071219 </td><td> (0.31%) </td><td> 10 </td><td>  0.00000000 </td><td>  20.0000000 </td><td> True </td></tr><tr><td> tau </td><td>  44.7609480 </td><td>  0.45237054 </td><td> (1.01%) </td><td> 50 </td><td>  0.00000000 </td><td>  100.000000 </td><td> True </td></tr></table>"
      ],
      "text/plain": [
       "Parameters([('V_o',\n",
       "             <Parameter 'V_o', value=9.79457709968388 +/- 0.0307, bounds=[0:20]>),\n",
       "            ('tau',\n",
       "             <Parameter 'tau', value=44.76094795678713 +/- 0.452, bounds=[0.0:100]>)])"
      ]
     },
     "execution_count": 72,
     "metadata": {},
     "output_type": "execute_result"
    }
   ],
   "source": [
    "# put the parameters into an object (command line 52)\n",
    "params=v_fit.params\n",
    "params    #print as a dataframe"
   ]
  },
  {
   "cell_type": "code",
   "execution_count": 73,
   "metadata": {},
   "outputs": [
    {
     "name": "stdout",
     "output_type": "stream",
     "text": [
      "Amplitude V_o = 9.79+/-0.03 V    time constant 𝛕 = 44.8+/-0.5 s\n"
     ]
    }
   ],
   "source": [
    "# create uncertainty objects and print with appropriate significant figures (command line 54)\n",
    "V_o_u=ufloat(v_fit.params['V_o'].value,v_fit.params['V_o'].stderr)\n",
    "tau_u=ufloat(v_fit.params['tau'].value,v_fit.params['tau'].stderr)\n",
    "print('Amplitude V_o = {0:0.1u} V    time constant 𝛕 = {1:0.1u} s'.format(V_o_u,tau_u))"
   ]
  },
  {
   "cell_type": "markdown",
   "metadata": {},
   "source": [
    "The initial values used to generate the data in the first place were $V_o = 9.80\\ V; \\tau = 45.0\\ s$, and the output of the fit is $V_o = 9.79 \\pm 0.03\\ V; \\tau = 44.8 \\pm 0.05\\ s$, so this worked.  Both values are within one standard deviation of the nominal value.  The uncertainty objects are now ready to use for the next step of the data analysis."
   ]
  },
  {
   "cell_type": "markdown",
   "metadata": {},
   "source": [
    "Finally, replot with labelling that reflects the experiment and the fitted curve having a higher point density than the raw data."
   ]
  },
  {
   "cell_type": "code",
   "execution_count": 74,
   "metadata": {},
   "outputs": [
    {
     "data": {
      "image/png": "[encoded data removed]",
      "text/plain": [
       "<Figure size 576x432 with 1 Axes>"
      ]
     },
     "metadata": {
      "needs_background": "light"
     },
     "output_type": "display_data"
    }
   ],
   "source": [
    "# generate fitted curve with higher density (command line 34)\n",
    "\n",
    "fit_x=np.linspace(0,np.max(time),50)\n",
    "fit_y=v_fit.eval(v_fit.params,t=fit_x)\n",
    "\n",
    "# plot data as mean with error bars and fit as a line (command line 26)\n",
    "\n",
    "plt.figure(figsize=(8,6))\n",
    "plt.grid()\n",
    "plt.title('Capacitor Charge Cycle')\n",
    "plt.ylabel('Signal (V)')\n",
    "plt.xlabel('Time (s)')\n",
    "\n",
    "# add the data\n",
    "\n",
    "plt.errorbar(trials['Time'],V_mean,yerr=V_sigma,fmt='or',label='Data')\n",
    "plt.plot(fit_x,fit_y,'-b',label='Fit  ($V_o=9.8$ V, tau = 45 s)')\n",
    "\n",
    "# set axis limits\n",
    "plt.xlim(0,200)\n",
    "plt.ylim(0,10)\n",
    "\n",
    "# print legend\n",
    "plt.legend(title='Exponential Saturation');"
   ]
  }
 ],
 "metadata": {
  "kernelspec": {
   "display_name": "Python 3",
   "language": "python",
   "name": "python3"
  },
  "language_info": {
   "codemirror_mode": {
    "name": "ipython",
    "version": 3
   },
   "file_extension": ".py",
   "mimetype": "text/x-python",
   "name": "python",
   "nbconvert_exporter": "python",
   "pygments_lexer": "ipython3",
   "version": "3.7.3"
  },
  "toc-showcode": false
 },
 "nbformat": 4,
 "nbformat_minor": 4
}
