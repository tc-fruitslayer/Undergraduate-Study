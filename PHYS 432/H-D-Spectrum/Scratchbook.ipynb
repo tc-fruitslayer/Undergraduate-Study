{
 "cells": [
  {
   "cell_type": "code",
   "execution_count": 1,
   "id": "54c8132f-b5c9-4611-815c-f86bd1750138",
   "metadata": {},
   "outputs": [],
   "source": [
    "# Run this cell with Shift-Enter, and wait until the asterisk changes to a number, i.e., [*] becomes [1]\n",
    "import numpy as np\n",
    "import scipy.constants as const\n",
    "import uncertainties as unc\n",
    "import uncertainties.unumpy as up\n",
    "import matplotlib.pyplot as plt\n",
    "import pandas as pd\n",
    "%matplotlib inline"
   ]
  },
  {
   "cell_type": "code",
   "execution_count": 2,
   "id": "df4cc476-92dc-4b39-b6d7-14adf5b104fd",
   "metadata": {},
   "outputs": [],
   "source": [
    "def E(m, Z, n):\n",
    "    Eₙ = -m*Z**2*const.e**4/(4*const.pi*const.epsilon_0)**2/2/const.hbar**2/n**2\n",
    "    return Eₙ"
   ]
  },
  {
   "cell_type": "code",
   "execution_count": 7,
   "id": "759f7aa7-0d1b-455c-aa18-b5a9aa587ae2",
   "metadata": {},
   "outputs": [],
   "source": [
    "ΔE_Hα = E(const.m_p,1,2)-E(const.m_p,1,1)"
   ]
  },
  {
   "cell_type": "code",
   "execution_count": 8,
   "id": "50347077-6b08-4429-8f32-e19943817108",
   "metadata": {},
   "outputs": [],
   "source": [
    "ΔE_Dα = E(2*const.m_p,1,2)-E(2*const.m_p,1,1)"
   ]
  },
  {
   "cell_type": "code",
   "execution_count": 13,
   "id": "7c21c97c-9163-4016-90c6-e127fb0102fb",
   "metadata": {},
   "outputs": [],
   "source": [
    "λ_Hα = const.h*const.c/ΔE_Hα"
   ]
  },
  {
   "cell_type": "code",
   "execution_count": 12,
   "id": "17e9de49-f01f-42fb-a3d4-56053d940ae4",
   "metadata": {},
   "outputs": [],
   "source": [
    "λ_Dα = const.h*const.c/ΔE_Dα"
   ]
  },
  {
   "cell_type": "code",
   "execution_count": 21,
   "id": "05c2c710-e5ed-46ac-8800-7c0de7bde355",
   "metadata": {},
   "outputs": [],
   "source": [
    "δλ_HD = λ_Hα-λ_Dα"
   ]
  },
  {
   "cell_type": "code",
   "execution_count": 22,
   "id": "3e9ee89d-7d63-4089-aa3f-b3b088a781b5",
   "metadata": {},
   "outputs": [
    {
     "data": {
      "text/plain": [
       "3.308610312461668e-11"
      ]
     },
     "execution_count": 22,
     "metadata": {},
     "output_type": "execute_result"
    }
   ],
   "source": [
    "δλ_HD"
   ]
  },
  {
   "cell_type": "code",
   "execution_count": 20,
   "id": "92620b9f-8bda-477b-8cfa-7e5997d23c1b",
   "metadata": {},
   "outputs": [],
   "source": [
    "δλ_Na = (5895.95-5895.92)*1e-10"
   ]
  },
  {
   "cell_type": "code",
   "execution_count": 23,
   "id": "0ec10f23-4f34-469a-8e79-88e58072281e",
   "metadata": {},
   "outputs": [
    {
     "data": {
      "text/plain": [
       "11.028701041632509"
      ]
     },
     "execution_count": 23,
     "metadata": {},
     "output_type": "execute_result"
    }
   ],
   "source": [
    "δλ_HD/δλ_Na"
   ]
  },
  {
   "cell_type": "code",
   "execution_count": null,
   "id": "22bae467-80bf-4125-a6d5-452ba1837665",
   "metadata": {},
   "outputs": [],
   "source": []
  }
 ],
 "metadata": {
  "kernelspec": {
   "display_name": "Python 3 (ipykernel)",
   "language": "python",
   "name": "python3"
  },
  "language_info": {
   "codemirror_mode": {
    "name": "ipython",
    "version": 3
   },
   "file_extension": ".py",
   "mimetype": "text/x-python",
   "name": "python",
   "nbconvert_exporter": "python",
   "pygments_lexer": "ipython3",
   "version": "3.9.7"
  }
 },
 "nbformat": 4,
 "nbformat_minor": 5
}
